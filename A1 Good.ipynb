{
 "cells": [
  {
   "cell_type": "markdown",
   "metadata": {},
   "source": [
    "# Assignment 1"
   ]
  },
  {
   "cell_type": "markdown",
   "metadata": {},
   "source": [
    "## Import Libraries"
   ]
  },
  {
   "cell_type": "code",
   "execution_count": 1,
   "metadata": {},
   "outputs": [],
   "source": [
    "import pandas as pd\n",
    "import seaborn as sns\n",
    "import numpy as np\n",
    "import matplotlib.pyplot as plt\n",
    "from IPython.display import clear_output, display\n",
    "#sklearn\n",
    "from sklearn.model_selection import train_test_split\n",
    "from sklearn.linear_model import LogisticRegression\n",
    "from sklearn.preprocessing import StandardScaler\n",
    "from sklearn.model_selection import KFold\n",
    "from sklearn.metrics import make_scorer, confusion_matrix\n",
    "from sklearn.feature_selection import SelectFromModel\n",
    "from sklearn.preprocessing import StandardScaler\n",
    "from sklearn import linear_model\n",
    "# The following line is needed to show plots inline in notebooks\n",
    "%matplotlib inline "
   ]
  },
  {
   "cell_type": "markdown",
   "metadata": {},
   "source": [
    "##### Read CSV File"
   ]
  },
  {
   "cell_type": "code",
   "execution_count": 2,
   "metadata": {},
   "outputs": [
    {
     "name": "stderr",
     "output_type": "stream",
     "text": [
      "/home/aaron/.local/lib/python3.5/site-packages/IPython/core/interactiveshell.py:3058: DtypeWarning: Columns (1,3,9,11,22,24,25,26,27,28,29,45,57,65,84,86,88,108,110,124,126,151,195,209,224,250,263,265,277,278,279,280,281,282,283,284,285,286,287,288,289,290,291,305,307,323,326,327,330,342,372,385,386,394,395) have mixed types. Specify dtype option on import or set low_memory=False.\n",
      "  interactivity=interactivity, compiler=compiler, result=result)\n"
     ]
    },
    {
     "data": {
      "text/plain": [
       "(15429, 397)"
      ]
     },
     "execution_count": 2,
     "metadata": {},
     "output_type": "execute_result"
    }
   ],
   "source": [
    "data = pd.read_csv('Kaggle_Salary.csv')\n",
    "# drop row index 0 because it holds the Questions (inplace is to remove permanently)\n",
    "data.drop(data.index[0], inplace=True)\n",
    "data.shape"
   ]
  },
  {
   "cell_type": "markdown",
   "metadata": {},
   "source": [
    "##### Basic Functions"
   ]
  },
  {
   "cell_type": "code",
   "execution_count": 3,
   "metadata": {},
   "outputs": [],
   "source": [
    "# Function to calculate how many missing values are in a column\n",
    "def how_many_nan(col_name):\n",
    "    amount = col_name[col_name.isna()].shape[0]\n",
    "    return amount\n",
    "# accepts a column name and a list of words that needs to be removed\n",
    "def remove_words(col_name, unwanted_words):\n",
    "    pat = r'\\b(?:{})\\b'.format('|'.join(unwanted_words))\n",
    "    data[col_name] = data[col_name].str.replace(pat, '')\n",
    "    data[col_name] = data[col_name].str.strip()\n"
   ]
  },
  {
   "cell_type": "code",
   "execution_count": 4,
   "metadata": {},
   "outputs": [],
   "source": [
    "# convert salary in to categorical data\n",
    "data.Q9 = pd.Categorical(data.Q9)"
   ]
  },
  {
   "cell_type": "code",
   "execution_count": 5,
   "metadata": {},
   "outputs": [],
   "source": [
    "# Label the salary range for data exploration\n",
    "def encode_salary(salary):\n",
    "    if \"0-10,000\" in salary:\n",
    "        return 5000\n",
    "    if \"10-20,000\" in salary:\n",
    "        return 15000\n",
    "    if \"20-30,000\" in salary:\n",
    "        return 25000\n",
    "    if \"30-40,000\" in salary:\n",
    "        return 35000\n",
    "    if \"40-50,000\" in salary:\n",
    "        return 45000\n",
    "    if \"50-60,000\" in salary:\n",
    "        return 55000\n",
    "    if \"60-70,000\" in salary:\n",
    "        return 65000\n",
    "    if \"70-80,000\" in salary:\n",
    "        return 75000\n",
    "    if \"80-90,000\" in salary:\n",
    "        return 85000\n",
    "    if \"90-100,000\" in salary:\n",
    "        return 95000\n",
    "    if \"100-125,000\" in salary:\n",
    "        return 112500\n",
    "    if \"125-150,000\" in salary:\n",
    "        return 137500\n",
    "    if \"150-200,000\" in salary:\n",
    "        return 175000\n",
    "    if \"200-250,000\" in salary:\n",
    "        return 225000\n",
    "    if \"250-300,000\" in salary:\n",
    "        return 275000\n",
    "    if \"300-400,000\" in salary:\n",
    "        return 250000\n",
    "    if \"400-500,000\" in salary:\n",
    "        return 450000\n",
    "    if \"500,000+\" in salary:\n",
    "        return 550000\n",
    "# Create a new column with the encoded salary\n",
    "data[\"Salary_label\"]=data[\"Q9\"].apply(encode_salary)"
   ]
  },
  {
   "cell_type": "markdown",
   "metadata": {},
   "source": [
    "## Data Exploration"
   ]
  },
  {
   "cell_type": "markdown",
   "metadata": {},
   "source": [
    "#### Q1: Gender"
   ]
  },
  {
   "cell_type": "code",
   "execution_count": 6,
   "metadata": {},
   "outputs": [],
   "source": [
    "# Q1: Gender\n",
    "# Combine gender cateogires less than 150 with Other (prefer not to say, prefer to self-describe)\n",
    "gender_count = data.Q1.value_counts()\n",
    "value_mask = data.Q1.isin(gender_count.index[gender_count < 150]) \n",
    "data.loc[value_mask,'Q1'] = \"Other\"\n",
    "# sns.catplot(x='Q1', y='Salary_label', data=data, order=['Female','Male','Other'], kind=\"box\").fig.set_size_inches(10,5)\n",
    "# plt.ylim(0, 250000) # limit the y axis to 250000"
   ]
  },
  {
   "cell_type": "markdown",
   "metadata": {},
   "source": [
    "#### Q2: Age"
   ]
  },
  {
   "cell_type": "code",
   "execution_count": 7,
   "metadata": {},
   "outputs": [
    {
     "data": {
      "text/plain": [
       "25-29    4278\n",
       "22-24    2894\n",
       "30-34    2819\n",
       "35-39    1637\n",
       "18-21    1363\n",
       "40-44     989\n",
       "45-49     602\n",
       "50-54     403\n",
       "55-59     222\n",
       "60-69     180\n",
       "70-79      26\n",
       "80+        16\n",
       "Name: Q2, dtype: int64"
      ]
     },
     "execution_count": 7,
     "metadata": {},
     "output_type": "execute_result"
    }
   ],
   "source": [
    "data.Q2.value_counts()"
   ]
  },
  {
   "cell_type": "code",
   "execution_count": 8,
   "metadata": {},
   "outputs": [],
   "source": [
    "# Q2: Age\n",
    "age_count = data.Q2.value_counts()\n",
    "# Made a new age category of above 70 years old\n",
    "value_mask = data.Q2.isin(age_count.index[age_count < 180]) \n",
    "data.loc[value_mask,'Q2'] = \"70+\"\n",
    "# Regrouped\n",
    "data['Q2'] = data['Q2'].replace('18-21', '18-24')\n",
    "data['Q2'] = data['Q2'].replace('22-24', '18-24')\n",
    "data['Q2'] = data['Q2'].replace('25-29', '25-34')\n",
    "data['Q2'] = data['Q2'].replace('30-34', '25-34')\n",
    "data['Q2'] = data['Q2'].replace('35-39', '35-44')\n",
    "data['Q2'] = data['Q2'].replace('40-44', '35-44')\n",
    "data['Q2'] = data['Q2'].replace('45-49', '45-54')\n",
    "data['Q2'] = data['Q2'].replace('50-54', '45-54')\n",
    "data['Q2'] = data['Q2'].replace('55-59', '55+')\n",
    "data['Q2'] = data['Q2'].replace('60-69', '55+')\n",
    "data['Q2'] = data['Q2'].replace('70+', '55+')\n",
    "# sns.catplot(x='Q2', y='Salary_label', data=data, order = ['18-21','22-24','25-29','30-34','35-39','40-44','45-49','50-54','55-59','60-69','70+'], kind=\"box\").fig.set_size_inches(10,5)\n",
    "# plt.ylim(0, 300000) # limit the y axis to 300000"
   ]
  },
  {
   "cell_type": "markdown",
   "metadata": {},
   "source": [
    "#### Q3: Country"
   ]
  },
  {
   "cell_type": "code",
   "execution_count": 9,
   "metadata": {},
   "outputs": [],
   "source": [
    "# Q3: Countries\n",
    "# Categorize any country less than a threshold count in to other\n",
    "countries_count = data.Q3.value_counts()\n",
    "value_mask = data.Q3.isin(countries_count.index[countries_count < 200]) \n",
    "data.loc[value_mask,'Q3'] = \"Other\"\n",
    "# Simplify Name\n",
    "data['Q3'] = data['Q3'].replace('United States of America', 'USA')\n",
    "data['Q3'] = data['Q3'].replace('United Kingdom of Great Britain and Northern Ireland', 'UKGBNI')\n",
    "# Group together \"I do not wish to disclose my location\" with \"Other\"\n",
    "data['Q3'] = data['Q3'].replace('I do not wish to disclose my location', 'Other')\n",
    "# sns.catplot(x='Q3', y='Salary_label', data=data, order = ['India','China','Russia','Brazil','Poland','Other','Italy','Spain','France','Germany','Japan','UKGBNI','Canada','Australia','USA'],kind=\"box\").fig.set_size_inches(20,8)\n",
    "# plt.ylim(0, 300000) # limit the y axis to 250000"
   ]
  },
  {
   "cell_type": "markdown",
   "metadata": {},
   "source": [
    "#### Q4: Highest level of education "
   ]
  },
  {
   "cell_type": "code",
   "execution_count": 10,
   "metadata": {},
   "outputs": [],
   "source": [
    "# Q4: Highest level of education\n",
    "degree_count = data.Q4.value_counts(normalize=True)\n",
    "# Simplify category name\n",
    "data['Q4'] = data['Q4'].replace('Some college/university study without earning a bachelor’s degree', 'Non-conferred')\n",
    "data['Q4'] = data['Q4'].replace('No formal education past high school', 'Secondary School')\n",
    "# sns.catplot(x='Q4', y='Salary_label', data=data, order=['I prefer not to answer','Secondary School','Professional degree','Non-conferred','Bachelor’s degree','Master’s degree','Doctoral degree'],kind=\"box\").fig.set_size_inches(20,10)\n",
    "# plt.ylim(0, 200000) # limit the y axis to 250000"
   ]
  },
  {
   "cell_type": "code",
   "execution_count": 11,
   "metadata": {},
   "outputs": [],
   "source": [
    "# Since \"Non-conferred\" and \"I prefer not to answer\" show similar salary earnings, I can combine them\n",
    "data['Q4'] = data['Q4'].replace('Non-conferred', 'Other')\n",
    "data['Q4'] = data['Q4'].replace('I prefer not to answer', 'Other')\n",
    "data['Q4'] = data['Q4'].replace('Bachelor’s degree', 'Other')\n",
    "# sns.catplot(x='Q4', y='Salary_label', data=data, order=['Other','Secondary School','Professional degree','Master’s degree','Doctoral degree'],kind=\"box\").fig.set_size_inches(20,10)\n",
    "# plt.ylim(0, 200000) # limit the y axis to 250000"
   ]
  },
  {
   "cell_type": "markdown",
   "metadata": {},
   "source": [
    "#### Q5: Major in University/College"
   ]
  },
  {
   "cell_type": "code",
   "execution_count": 12,
   "metadata": {},
   "outputs": [],
   "source": [
    "# Q5: Major in University/College\n",
    "# There is 135 missing values\n",
    "a = data[data['Q5'].isna()]\n",
    "how_many_nan(data['Q5'])\n",
    "# Simplified naming\n",
    "data['Q5'] = data['Q5'].replace('A business discipline (accounting, economics, finance, etc.)', 'Business')\n",
    "data['Q5'] = data['Q5'].replace('Information technology, networking, or system administration', 'Information technology')\n",
    "data['Q5'] = data['Q5'].replace('Medical or life sciences (biology, chemistry, medicine, etc.)', 'Medical/Life Science')\n",
    "data['Q5'] = data['Q5'].replace('Social sciences (anthropology, psychology, sociology, etc.)', 'Social Science')\n",
    "data['Q5'] = data['Q5'].replace('Humanities (history, literature, philosophy, etc.)', 'Humanities')\n",
    "data['Q5'] = data['Q5'].replace('Mathematics or statistics', 'Math')\n",
    "data['Q5'] = data['Q5'].replace('Computer science (software engineering, etc.)', 'Comp. Sci & Soft. Eng.')\n",
    "data['Q5'] = data['Q5'].replace('Engineering (non-computer focused)', 'Engineering (Non. Soft. Eng.)')\n",
    "# Grouped together non-STEM with others\n",
    "data['Q5'] = data['Q5'].replace('I never declared a major', 'Other')\n",
    "data['Q5'] = data['Q5'].replace('Fine arts or performing arts', 'Other')\n",
    "data['Q5'] = data['Q5'].replace('Humanities', 'Other')\n",
    "# sns.catplot(x='Q5', y='Salary_label', data=data, kind=\"box\").fig.set_size_inches(25,10)\n",
    "# plt.ylim(0, 200000) # limit the y axis to 250000"
   ]
  },
  {
   "cell_type": "markdown",
   "metadata": {},
   "source": [
    "#### Q6: Position Title"
   ]
  },
  {
   "cell_type": "code",
   "execution_count": 13,
   "metadata": {},
   "outputs": [],
   "source": [
    "# Q6: Position Title\n",
    "# Eliminate position titles less than a threshold\n",
    "title_count = data.Q6.value_counts()\n",
    "value_mask = data.Q6.isin(title_count.index[title_count < 200]) \n",
    "data.loc[value_mask,'Q6'] = \"Other\"\n",
    "# sns.catplot(x='Q6', y='Salary_label', data=data, kind=\"box\").fig.set_size_inches(25,10)\n",
    "# plt.ylim(0, 300000) # limit the y axis to 250000"
   ]
  },
  {
   "cell_type": "code",
   "execution_count": 14,
   "metadata": {},
   "outputs": [
    {
     "data": {
      "text/plain": [
       "Data Scientist             3249\n",
       "Student                    2620\n",
       "Software Engineer          2340\n",
       "Other                      1661\n",
       "Data Analyst               1428\n",
       "Research Scientist          925\n",
       "Business Analyst            590\n",
       "Consultant                  573\n",
       "Data Engineer               564\n",
       "Manager                     452\n",
       "Research Assistant          447\n",
       "Product/Project Manager     329\n",
       "Chief Officer               251\n",
       "Name: Q6, dtype: int64"
      ]
     },
     "execution_count": 14,
     "metadata": {},
     "output_type": "execute_result"
    }
   ],
   "source": [
    "title_count = data.Q6.value_counts()\n",
    "title_count"
   ]
  },
  {
   "cell_type": "code",
   "execution_count": 15,
   "metadata": {},
   "outputs": [],
   "source": [
    "data['Q6'] = data['Q6'].replace('Data Engineer', 'Software Engineer')\n",
    "data['Q6'] = data['Q6'].replace('Data Analyst', 'Analyst')\n",
    "data['Q6'] = data['Q6'].replace('Business Analyst', 'Analyst')\n",
    "data['Q6'] = data['Q6'].replace('Research Scientist', 'Researcher')\n",
    "data['Q6'] = data['Q6'].replace('Research Assistant', 'Researcher')\n",
    "data['Q6'] = data['Q6'].replace('Research Assistant', 'Researcher')\n",
    "data['Q6'] = data['Q6'].replace('Chief Officer', 'Leader')\n",
    "data['Q6'] = data['Q6'].replace('Manager', 'Leader')\n",
    "data['Q6'] = data['Q6'].replace('Product/Project Manager', 'Leader')"
   ]
  },
  {
   "cell_type": "markdown",
   "metadata": {},
   "source": [
    "#### Q7: Position Title "
   ]
  },
  {
   "cell_type": "code",
   "execution_count": 16,
   "metadata": {},
   "outputs": [],
   "source": [
    "# Q7: Industry\n",
    "industry_count = data.Q7.value_counts()\n",
    "value_mask = data.Q7.isin(industry_count.index[industry_count < 200]) \n",
    "data.loc[value_mask,'Q7'] = \"Other\"\n",
    "# sns.catplot(x='Q7', y='Salary_label', data=data, kind=\"box\").fig.set_size_inches(40,10)\n",
    "# plt.ylim(0, 200000) # limit the y axis to 250000"
   ]
  },
  {
   "cell_type": "markdown",
   "metadata": {},
   "source": [
    "#### Q8: Years of Experience"
   ]
  },
  {
   "cell_type": "code",
   "execution_count": 17,
   "metadata": {},
   "outputs": [
    {
     "data": {
      "text/plain": [
       "0-1      3879\n",
       "1-2      2826\n",
       "5-10     1973\n",
       "2-3      1965\n",
       "3-4      1308\n",
       "4-5      1145\n",
       "10-15    1123\n",
       "15-20     595\n",
       "20-25     271\n",
       "30 +      144\n",
       "25-30     124\n",
       "Name: Q8, dtype: int64"
      ]
     },
     "execution_count": 17,
     "metadata": {},
     "output_type": "execute_result"
    }
   ],
   "source": [
    "data.Q8.value_counts()"
   ]
  },
  {
   "cell_type": "code",
   "execution_count": 18,
   "metadata": {},
   "outputs": [],
   "source": [
    "# Q8: Years of Experience\n",
    "# There's 76 missing values - Should just remove it\n",
    "how_many_nan(data['Q8'])\n",
    "# Recategorize YOE\n",
    "data['Q8'] = data['Q8'].replace('0-1', '0-5') # 0-5 years\n",
    "data['Q8'] = data['Q8'].replace('1-2', '0-5')\n",
    "data['Q8'] = data['Q8'].replace('2-3', '0-5')\n",
    "data['Q8'] = data['Q8'].replace('3-4', '0-5')\n",
    "data['Q8'] = data['Q8'].replace('4-5', '0-5')\n",
    "data['Q8'] = data['Q8'].replace('10-15', '10-20')# 10-20\n",
    "data['Q8'] = data['Q8'].replace('15-20', '10-20')\n",
    "data['Q8'] = data['Q8'].replace('20-25', '20+') # 20+\n",
    "data['Q8'] = data['Q8'].replace('25-30', '20+')\n",
    "data['Q8'] = data['Q8'].replace('30 +', '20+')\n",
    "# sns.catplot(x='Q8', y='Salary_label', data=data, order=['0-3','3-5','5-10','10-15','15-20','20-30','30 +'], kind=\"box\").fig.set_size_inches(10,5)\n",
    "# plt.ylim(0, 300000) # limit the y axis to 300000"
   ]
  },
  {
   "cell_type": "markdown",
   "metadata": {},
   "source": [
    "#### Q25: Years of ML Experience"
   ]
  },
  {
   "cell_type": "code",
   "execution_count": 19,
   "metadata": {},
   "outputs": [
    {
     "data": {
      "text/plain": [
       "< 1 year                                                                 0.312635\n",
       "1-2 years                                                                0.266418\n",
       "2-3 years                                                                0.124040\n",
       "I have never studied machine learning but plan to learn in the future    0.091316\n",
       "3-4 years                                                                0.068654\n",
       "5-10 years                                                               0.055386\n",
       "4-5 years                                                                0.048453\n",
       "10-15 years                                                              0.019083\n",
       "20+ years                                                                0.009616\n",
       "I have never studied machine learning and I do not plan to               0.004398\n",
       "Name: Q25, dtype: float64"
      ]
     },
     "execution_count": 19,
     "metadata": {},
     "output_type": "execute_result"
    }
   ],
   "source": [
    "data['Q25'].value_counts(normalize=True)"
   ]
  },
  {
   "cell_type": "code",
   "execution_count": 20,
   "metadata": {},
   "outputs": [],
   "source": [
    "data['Q25'] = data['Q25'].replace('< 1 year', '0-5')\n",
    "data['Q25'] = data['Q25'].replace('1-2 years', '0-5')\n",
    "data['Q25'] = data['Q25'].replace('2-3 years', '0-5')\n",
    "data['Q25'] = data['Q25'].replace('I have never studied machine learning but plan to learn in the future', '0-5')\n",
    "data['Q25'] = data['Q25'].replace('I have never studied machine learning and I do not plan to', '0-5')\n",
    "data['Q25'] = data['Q25'].replace('3-4 years', '0-5')\n",
    "data['Q25'] = data['Q25'].replace('4-5 years', '0-5')\n",
    "data['Q25'] = data['Q25'].replace('5-10 years', '5+')\n",
    "data['Q25'] = data['Q25'].replace('10-15 years', '5+')\n",
    "data['Q25'] = data['Q25'].replace('20+ years', '5+')"
   ]
  },
  {
   "cell_type": "code",
   "execution_count": 21,
   "metadata": {},
   "outputs": [
    {
     "data": {
      "text/plain": [
       "0-5    0.915915\n",
       "5+     0.084085\n",
       "Name: Q25, dtype: float64"
      ]
     },
     "execution_count": 21,
     "metadata": {},
     "output_type": "execute_result"
    }
   ],
   "source": [
    "data['Q25'].value_counts(normalize=True)"
   ]
  },
  {
   "cell_type": "markdown",
   "metadata": {},
   "source": [
    "#### Q26: Do you consider yourself to be a data scientist?"
   ]
  },
  {
   "cell_type": "code",
   "execution_count": 22,
   "metadata": {},
   "outputs": [
    {
     "data": {
      "text/plain": [
       "Probably yes      0.268164\n",
       "Definitely yes    0.266000\n",
       "Maybe             0.214009\n",
       "Probably not      0.166418\n",
       "Definitely not    0.085410\n",
       "Name: Q26, dtype: float64"
      ]
     },
     "execution_count": 22,
     "metadata": {},
     "output_type": "execute_result"
    }
   ],
   "source": [
    "data['Q26'].value_counts(normalize=True)"
   ]
  },
  {
   "cell_type": "code",
   "execution_count": 23,
   "metadata": {},
   "outputs": [],
   "source": [
    "data['Q26'] = data['Q26'].replace('Probably yes', 'Yes')\n",
    "data['Q26'] = data['Q26'].replace('Probably not', 'No')\n",
    "data['Q26'] = data['Q26'].replace('Definitely yes', 'Yes')\n",
    "data['Q26'] = data['Q26'].replace('Definitely not', 'No')"
   ]
  },
  {
   "cell_type": "markdown",
   "metadata": {},
   "source": [
    "#### Q40"
   ]
  },
  {
   "cell_type": "code",
   "execution_count": 24,
   "metadata": {},
   "outputs": [
    {
     "data": {
      "text/plain": [
       "3763"
      ]
     },
     "execution_count": 24,
     "metadata": {},
     "output_type": "execute_result"
    }
   ],
   "source": [
    "# Clean up Q40\n",
    "Q40_words = ['Independent', 'projects', 'are', 'important', 'than', 'academic', 'achievements']\n",
    "remove_words('Q40', Q40_words)\n",
    "# 3763 missing values\n",
    "how_many_nan(data['Q40'])"
   ]
  },
  {
   "cell_type": "markdown",
   "metadata": {},
   "source": [
    "### Encode Features"
   ]
  },
  {
   "cell_type": "code",
   "execution_count": 25,
   "metadata": {},
   "outputs": [],
   "source": [
    "class combine_col:\n",
    "    # Function to concatenate multiple columns of num in to one single column (by addition)\n",
    "    def sum_int(col_name, start, end):\n",
    "        one = data[col_name+'_Part_'+str(start)]\n",
    "        two = data[col_name+'_Part_'+str(start+1)]\n",
    "        col_combined = one+two\n",
    "        # iterate from start to end\n",
    "        for i in range(start+2, end+1):\n",
    "            next_col = data[col_name+'_Part_'+str(i)]\n",
    "            col_combined = col_combined+next_col\n",
    "        # if the sum of specified columns equal to zero, this row was originally a NaN\n",
    "        col_combined = col_combined.replace(0, np.nan)\n",
    "        return col_combined\n",
    "# Class for filling in information\n",
    "class fill_info:\n",
    "    def nan_text(col_name,start, end):\n",
    "        for i in range (start, end+1): #nan2zero\n",
    "            data[col_name+'_Part_'+str(i)] = data[col_name+'_Part_'+str(i)].fillna(0)\n",
    "        # Before converting all texts to 1, save a list of the categories\n",
    "        features_list = list()\n",
    "        for i in range (start, end+1): # save features to a list\n",
    "            spot = data[col_name+'_Part_'+str(i)].ne(0).idxmax()\n",
    "            feature = data[col_name+'_Part_'+str(i)].iloc[spot-1]\n",
    "            features_list.append(feature)\n",
    "        for i in range (start, end+1): #text2one\n",
    "            data[col_name+'_Part_'+str(i)] = data[col_name+'_Part_'+str(i)].astype(bool).astype(int)\n",
    "        return features_list\n",
    "    def col2num(col_name, start, end):\n",
    "        for i in range (start, end+1): #fill nan with zero\n",
    "            data[col_name+'_Part_'+str(i)] = data[col_name+'_Part_'+str(i)].fillna(0)\n",
    "        for i in range (start, end+1): # convert everything to type float\n",
    "            data[col_name+'_Part_'+str(i)] = data[col_name+'_Part_'+str(i)].astype(float)\n",
    "# encode columns with num\n",
    "def encode_col(col_name, start, end):\n",
    "    features = fill_info.nan_text(col_name, start, end)\n",
    "    combined = combine_col.sum_int(col_name, start, end)\n",
    "    return features, combined\n",
    "# creates dummy columns and drops the original column\n",
    "def dummy(col_name):\n",
    "    global data\n",
    "    dummy = pd.get_dummies(data[col_name], prefix=col_name)\n",
    "    # data = data.drop([col_name], axis=1) # need to drop the original columns\n",
    "    return dummy"
   ]
  },
  {
   "cell_type": "markdown",
   "metadata": {},
   "source": [
    "##### Encode categorical data"
   ]
  },
  {
   "cell_type": "code",
   "execution_count": 26,
   "metadata": {},
   "outputs": [],
   "source": [
    "# these two Q's are percentage based\n",
    "fill_info.col2num('Q34', 1, 6)# Q34\n",
    "Q34_combined = combine_col.sum_int('Q34',1,6)\n",
    "fill_info.col2num('Q35', 1, 6)# Q35\n",
    "Q35_combined = combine_col.sum_int('Q35',1,6)"
   ]
  },
  {
   "cell_type": "code",
   "execution_count": 27,
   "metadata": {},
   "outputs": [],
   "source": [
    "Q11_features, Q11_combined = encode_col('Q11', 1, 7)\n",
    "Q13_features, Q13_combined = encode_col('Q13', 1, 15)\n",
    "Q14_features, Q14_combined = encode_col('Q14', 1, 11)\n",
    "Q15_features, Q15_combined = encode_col('Q15', 1, 7)\n",
    "Q16_features, Q16_combined = encode_col('Q16', 1, 18)\n",
    "Q19_features, Q19_combined = encode_col('Q19', 1, 19)\n",
    "Q21_features, Q21_combined = encode_col('Q21', 1, 13)\n",
    "Q27_features, Q27_combined = encode_col('Q27', 1, 20)\n",
    "Q28_features, Q28_combined = encode_col('Q28', 1, 43)\n",
    "Q29_features, Q29_combined = encode_col('Q29', 1, 28)\n",
    "Q30_features, Q30_combined = encode_col('Q30', 1, 25)\n",
    "Q31_features, Q31_combined = encode_col('Q31', 1, 12)\n",
    "Q33_features, Q33_combined = encode_col('Q33', 1, 11)\n",
    "Q36_features, Q36_combined = encode_col('Q36', 1, 13)\n",
    "Q38_features, Q38_combined = encode_col('Q38', 1, 22)\n",
    "Q42_features, Q42_combined = encode_col('Q42', 1, 5)\n",
    "Q44_features, Q44_combined = encode_col('Q44', 1, 6)\n",
    "Q45_features, Q45_combined = encode_col('Q45', 1, 6)\n",
    "Q47_features, Q47_combined = encode_col('Q47', 1, 16)\n",
    "Q49_features, Q49_combined = encode_col('Q49', 1, 12)\n",
    "Q50_features, Q50_combined = encode_col('Q50', 1, 8)"
   ]
  },
  {
   "cell_type": "markdown",
   "metadata": {},
   "source": [
    "##### Concatenate dummy and categorical features to find NaN values"
   ]
  },
  {
   "cell_type": "code",
   "execution_count": 28,
   "metadata": {},
   "outputs": [],
   "source": [
    "def col_nan_percent(dataframe):\n",
    "    total_col = encoded_all.shape[0]\n",
    "    for (columnName, columnData) in dataframe.iteritems():\n",
    "        missing = dataframe[columnName].isna().sum()\n",
    "        missing_percentage = round((missing/total_col)*100, 2)\n",
    "        print(str(columnName) + ': ' + str(missing_percentage) +' %')\n",
    "def row_nan_percent(dataframe):\n",
    "    total_row = dataframe.shape[1]\n",
    "    for (rowName, rowData) in dataframe.iterrows():\n",
    "        missing = dataframe.loc[rowName].isna().sum()\n",
    "        missing_percentage = round((missing/total_row)*100, 2)\n",
    "        print(str(rowName) + ': ' + str(missing_percentage) +' %')\n",
    "# drop columns with more than threshold data missing\n",
    "def drop_col(dataframe, threshold):\n",
    "    total_col = encoded_all.shape[0]\n",
    "    for (columnName, columnData) in dataframe.iteritems():\n",
    "        missing = dataframe[columnName].isna().sum()\n",
    "        missing_percentage = round((missing/total_col)*100, 2)\n",
    "        if missing_percentage > threshold:\n",
    "            # drops the column from the dataframe\n",
    "            dataframe = dataframe.drop([columnName], axis=1)\n",
    "            # drops equivalent columns in the og dataframe (Data) including all its parts\n",
    "            data.drop([col for col in data.columns if columnName in col],axis=1,inplace=True)\n",
    "    return dataframe\n",
    "# drop rows with more than threshold data missing\n",
    "def drop_row(dataframe, threshold):\n",
    "    total_row = dataframe.shape[1]\n",
    "    for (rowName, rowData) in dataframe.iterrows():\n",
    "        missing = dataframe.loc[rowName].isna().sum()\n",
    "        missing_percentage = round((missing/total_row)*100, 2)\n",
    "        if missing_percentage > threshold:\n",
    "            dataframe = dataframe.drop(rowName)\n",
    "    return dataframe"
   ]
  },
  {
   "cell_type": "code",
   "execution_count": 29,
   "metadata": {},
   "outputs": [
    {
     "data": {
      "text/plain": [
       "<matplotlib.axes._subplots.AxesSubplot at 0x7f2508e4ee80>"
      ]
     },
     "execution_count": 29,
     "metadata": {},
     "output_type": "execute_result"
    },
    {
     "data": {
      "image/png": "[encoded data removed]",
      "text/plain": [
       "<Figure size 864x576 with 1 Axes>"
      ]
     },
     "metadata": {
      "needs_background": "light"
     },
     "output_type": "display_data"
    }
   ],
   "source": [
    "# new data frame with all the combined columns\n",
    "cat_encoded = pd.concat([Q11_combined, Q13_combined, Q14_combined, Q15_combined, Q16_combined, Q19_combined, Q21_combined, Q27_combined, Q28_combined, Q29_combined, Q30_combined, Q31_combined, Q33_combined, Q34_combined, Q35_combined, Q36_combined, Q38_combined, Q42_combined, Q44_combined, Q45_combined, Q47_combined, Q49_combined, Q50_combined],axis=1)\n",
    "cat_encoded.columns = ['Q11','Q13','Q14','Q15','Q16','Q19','Q21','Q27','Q28','Q29','Q30','Q31','Q33','Q34','Q35','Q36','Q38','Q42','Q44','Q45','Q47','Q49','Q50']\n",
    "# new data frame with all the ones that were made dummy\n",
    "dummy_encoded = pd.concat([data['Q1'],data['Q2'],data['Q3'],data['Q4'],data['Q5'],data['Q6'],data['Q7'],data['Q8'],data['Q9'],data['Q10'],data['Q12_MULTIPLE_CHOICE'],data['Q17'],data['Q18'],data['Q20'],data['Q22'],data['Q23'],data['Q24'],data['Q25'],data['Q26'],data['Q32'],data['Q37'],data['Q39_Part_1'],data['Q39_Part_2'],data['Q40'],data['Q41_Part_1'],data['Q41_Part_2'],data['Q41_Part_3'],data['Q43'],data['Q46'],data['Q48']], axis=1)\n",
    "# Check missing values from the whole encoded data set\n",
    "encoded_all = pd.concat([dummy_encoded, cat_encoded], axis=1)\n",
    "# plot nan\n",
    "fig, ax = plt.subplots(figsize=(12,8))\n",
    "sns.heatmap(encoded_all.isnull(), cmap='coolwarm', yticklabels=False, cbar=False, ax=ax)"
   ]
  },
  {
   "cell_type": "code",
   "execution_count": 33,
   "metadata": {},
   "outputs": [
    {
     "data": {
      "text/plain": [
       "<matplotlib.axes._subplots.AxesSubplot at 0x7f2508b94978>"
      ]
     },
     "execution_count": 33,
     "metadata": {},
     "output_type": "execute_result"
    },
    {
     "data": {
      "image/png": "[encoded data removed]",
      "text/plain": [
       "<Figure size 864x576 with 1 Axes>"
      ]
     },
     "metadata": {
      "needs_background": "light"
     },
     "output_type": "display_data"
    }
   ],
   "source": [
    "# first drop columns(features) that have more than 20% missing data\n",
    "encoded_col_dropped = drop_col(encoded_all, 20)\n",
    "# then drop entries with more than 20% missing data\n",
    "encoded_dropped = drop_row(encoded_col_dropped, 20)\n",
    "# plot\n",
    "fig, ax = plt.subplots(figsize=(12,8))\n",
    "sns.heatmap(encoded_dropped.isnull(), cmap='coolwarm', yticklabels=False, cbar=False, ax=ax)"
   ]
  },
  {
   "cell_type": "code",
   "execution_count": 34,
   "metadata": {},
   "outputs": [
    {
     "data": {
      "text/plain": [
       "Q1                        0\n",
       "Q2                        0\n",
       "Q3                        0\n",
       "Q4                        0\n",
       "Q5                       89\n",
       "Q6                        0\n",
       "Q7                        0\n",
       "Q8                       62\n",
       "Q9                        0\n",
       "Q10                       0\n",
       "Q12_MULTIPLE_CHOICE       0\n",
       "Q18                       0\n",
       "Q23                       0\n",
       "Q24                      20\n",
       "Q25                      46\n",
       "Q26                      55\n",
       "Q11                       0\n",
       "Q13                       0\n",
       "Q14                       0\n",
       "Q15                       0\n",
       "Q16                       0\n",
       "Q19                       0\n",
       "Q21                       0\n",
       "Q31                    1043\n",
       "Q33                    1117\n",
       "dtype: int64"
      ]
     },
     "execution_count": 34,
     "metadata": {},
     "output_type": "execute_result"
    }
   ],
   "source": [
    "encoded_dropped.isnull().sum()"
   ]
  },
  {
   "cell_type": "markdown",
   "metadata": {},
   "source": [
    "##### Q5: Undergraduate/College Major"
   ]
  },
  {
   "cell_type": "code",
   "execution_count": 35,
   "metadata": {},
   "outputs": [
    {
     "data": {
      "text/plain": [
       "Secondary School    1.0\n",
       "Name: Q4, dtype: float64"
      ]
     },
     "execution_count": 35,
     "metadata": {},
     "output_type": "execute_result"
    }
   ],
   "source": [
    "# there are 89 missing values\n",
    "Q5_missing = encoded_dropped[encoded_dropped['Q5'].isnull()]\n",
    "# 100% of people who didn't answer undergraduate/college major only completed secondary school\n",
    "Q5_missing.Q4.value_counts(normalize=True)"
   ]
  },
  {
   "cell_type": "code",
   "execution_count": 36,
   "metadata": {},
   "outputs": [],
   "source": [
    "# fill those nan values with a new category\n",
    "data['Q5'] = data['Q5'].fillna('Secondary School Only')"
   ]
  },
  {
   "cell_type": "code",
   "execution_count": 37,
   "metadata": {},
   "outputs": [
    {
     "data": {
      "text/plain": [
       "0"
      ]
     },
     "execution_count": 37,
     "metadata": {},
     "output_type": "execute_result"
    }
   ],
   "source": [
    "data['Q5'].isna().sum()"
   ]
  },
  {
   "cell_type": "markdown",
   "metadata": {},
   "source": [
    "##### Q8: How many years of experience in current role?"
   ]
  },
  {
   "cell_type": "code",
   "execution_count": 38,
   "metadata": {},
   "outputs": [
    {
     "data": {
      "text/plain": [
       "Student           0.854839\n",
       "Analyst           0.096774\n",
       "Researcher        0.016129\n",
       "Consultant        0.016129\n",
       "Data Scientist    0.016129\n",
       "Name: Q6, dtype: float64"
      ]
     },
     "execution_count": 38,
     "metadata": {},
     "output_type": "execute_result"
    }
   ],
   "source": [
    "# there are 89 missing values\n",
    "Q8_missing = encoded_dropped[encoded_dropped['Q8'].isnull()]\n",
    "# 85% of people who did not answer YOE are currently students\n",
    "Q8_missing.Q6.value_counts(normalize=True)"
   ]
  },
  {
   "cell_type": "code",
   "execution_count": 39,
   "metadata": {},
   "outputs": [
    {
     "data": {
      "text/plain": [
       "18-24    0.661290\n",
       "25-34    0.290323\n",
       "45-54    0.032258\n",
       "35-44    0.016129\n",
       "Name: Q2, dtype: float64"
      ]
     },
     "execution_count": 39,
     "metadata": {},
     "output_type": "execute_result"
    }
   ],
   "source": [
    "# 90% of people who did not answer YOE are between 18-29 years of age\n",
    "Q8_missing.Q2.value_counts(normalize=True)"
   ]
  },
  {
   "cell_type": "code",
   "execution_count": 40,
   "metadata": {},
   "outputs": [
    {
     "data": {
      "text/plain": [
       "0-5      0.858990\n",
       "10-20    0.087677\n",
       "5-10     0.046869\n",
       "20+      0.006465\n",
       "Name: Q8, dtype: float64"
      ]
     },
     "execution_count": 40,
     "metadata": {},
     "output_type": "execute_result"
    }
   ],
   "source": [
    "# Approximately 84% of students who are also under 35 list 0-5 years for YOE\n",
    "under_thirty = data.loc[data['Q2'].isin(['18-24','25-34'])]\n",
    "students_under_thirty = under_thirty.loc[data['Q6'].isin(['Student'])]\n",
    "students_under_thirty.Q8.value_counts(normalize=True)"
   ]
  },
  {
   "cell_type": "code",
   "execution_count": 41,
   "metadata": {},
   "outputs": [],
   "source": [
    "# fill those nan values with 0-5 YOE\n",
    "data['Q8'] = data['Q8'].fillna('0-5')"
   ]
  },
  {
   "cell_type": "markdown",
   "metadata": {},
   "source": [
    "##### Q24: How long have you been writing code to analyze data"
   ]
  },
  {
   "cell_type": "code",
   "execution_count": 42,
   "metadata": {},
   "outputs": [
    {
     "data": {
      "text/plain": [
       "Other                  0.45\n",
       "Master’s degree        0.40\n",
       "Doctoral degree        0.10\n",
       "Professional degree    0.05\n",
       "Name: Q4, dtype: float64"
      ]
     },
     "execution_count": 42,
     "metadata": {},
     "output_type": "execute_result"
    }
   ],
   "source": [
    "# there are 20 missing values\n",
    "Q24_missing = encoded_dropped[encoded_dropped['Q24'].isnull()]\n",
    "# 85% of people who did not answer have Master's or Other degrees\n",
    "Q24_missing.Q4.value_counts(normalize=True)"
   ]
  },
  {
   "cell_type": "code",
   "execution_count": 43,
   "metadata": {},
   "outputs": [
    {
     "data": {
      "text/plain": [
       "0    1-2 years\n",
       "dtype: object"
      ]
     },
     "execution_count": 43,
     "metadata": {},
     "output_type": "execute_result"
    }
   ],
   "source": [
    "# since the mode is 1-2 years\n",
    "data.Q24.mode()"
   ]
  },
  {
   "cell_type": "code",
   "execution_count": 44,
   "metadata": {},
   "outputs": [],
   "source": [
    "# fill those nan values with 0-3 YOE\n",
    "data['Q24'] = data['Q24'].fillna('1-2 years')"
   ]
  },
  {
   "cell_type": "markdown",
   "metadata": {},
   "source": [
    "##### Q25: How many years have you used ML methods?"
   ]
  },
  {
   "cell_type": "code",
   "execution_count": 45,
   "metadata": {},
   "outputs": [
    {
     "data": {
      "text/plain": [
       "Data Scientist       0.217391\n",
       "Software Engineer    0.217391\n",
       "Other                0.130435\n",
       "Analyst              0.130435\n",
       "Student              0.086957\n",
       "Researcher           0.086957\n",
       "Consultant           0.065217\n",
       "Leader               0.065217\n",
       "Name: Q6, dtype: float64"
      ]
     },
     "execution_count": 45,
     "metadata": {},
     "output_type": "execute_result"
    }
   ],
   "source": [
    "# there are 46 missing values\n",
    "Q25_missing = encoded_dropped[encoded_dropped['Q25'].isnull()]\n",
    "# Only 9% of people who did not answer are students, implying the rest are working\n",
    "Q25_missing.Q6.value_counts(normalize=True)"
   ]
  },
  {
   "cell_type": "code",
   "execution_count": 46,
   "metadata": {},
   "outputs": [
    {
     "data": {
      "text/plain": [
       "We are exploring ML methods (and may one day put a model into production)                    0.282609\n",
       "No (we do not use ML methods)                                                                0.217391\n",
       "We have well established ML methods (i.e., models in production for more than 2 years)       0.173913\n",
       "We recently started using ML methods (i.e., models in production for less than 2 years)      0.152174\n",
       "I do not know                                                                                0.108696\n",
       "We use ML methods for generating insights (but do not put working models into production)    0.065217\n",
       "Name: Q10, dtype: float64"
      ]
     },
     "execution_count": 46,
     "metadata": {},
     "output_type": "execute_result"
    }
   ],
   "source": [
    "# 65% of current employers of those who did not answer years of ML use are not well established in ML methods\n",
    "Q25_missing.Q10.value_counts(normalize=True)"
   ]
  },
  {
   "cell_type": "code",
   "execution_count": 47,
   "metadata": {},
   "outputs": [
    {
     "data": {
      "text/plain": [
       "0-5    0.94566\n",
       "5+     0.05434\n",
       "Name: Q25, dtype: float64"
      ]
     },
     "execution_count": 47,
     "metadata": {},
     "output_type": "execute_result"
    }
   ],
   "source": [
    "not_familiar = data.loc[data['Q10'].isin(['We are exploring ML methods (and may one day put a model into production)','No (we do not use ML methods)', 'We recently started using ML methods (i.e., models in production for less than 2 years)'])]\n",
    "# 95% of people who work in companies not familiar with ML listed ML experience as between 0-5 years\n",
    "not_familiar.Q25.value_counts(normalize=True)"
   ]
  },
  {
   "cell_type": "code",
   "execution_count": 48,
   "metadata": {},
   "outputs": [],
   "source": [
    "# fill those nan values with 0-5 years of ML experience\n",
    "data['Q25'] = data['Q25'].fillna('0-5')"
   ]
  },
  {
   "cell_type": "markdown",
   "metadata": {},
   "source": [
    "##### Q26: Do you consider yourself to be a data scientist?"
   ]
  },
  {
   "cell_type": "code",
   "execution_count": 49,
   "metadata": {},
   "outputs": [
    {
     "data": {
      "text/plain": [
       "Analyst              0.200000\n",
       "Software Engineer    0.200000\n",
       "Data Scientist       0.181818\n",
       "Other                0.127273\n",
       "Student              0.090909\n",
       "Researcher           0.072727\n",
       "Leader               0.072727\n",
       "Consultant           0.054545\n",
       "Name: Q6, dtype: float64"
      ]
     },
     "execution_count": 49,
     "metadata": {},
     "output_type": "execute_result"
    }
   ],
   "source": [
    "# there are 55 missing values\n",
    "Q26_missing = encoded_dropped[encoded_dropped['Q26'].isnull()]\n",
    "Q26_missing.Q6.value_counts(normalize=True)"
   ]
  },
  {
   "cell_type": "code",
   "execution_count": 50,
   "metadata": {},
   "outputs": [
    {
     "data": {
      "text/plain": [
       "Yes      0.891086\n",
       "Maybe    0.089477\n",
       "No       0.019437\n",
       "Name: Q26, dtype: float64"
      ]
     },
     "execution_count": 50,
     "metadata": {},
     "output_type": "execute_result"
    }
   ],
   "source": [
    "DS_title = data.loc[data['Q6'].isin(['Data Scientist'])]\n",
    "# 89% of people who has a title of Data Scientist considers themselves as Data Scientists\n",
    "DS_title['Q26'].value_counts(normalize=True)"
   ]
  },
  {
   "cell_type": "code",
   "execution_count": 51,
   "metadata": {},
   "outputs": [
    {
     "data": {
      "text/plain": [
       "0    Yes\n",
       "dtype: object"
      ]
     },
     "execution_count": 51,
     "metadata": {},
     "output_type": "execute_result"
    }
   ],
   "source": [
    "NotDS_title = data.loc[~data['Q6'].isin(['Data Scientist'])]\n",
    "# the mode of people who are not data scientists have also consider themselves as data scientists\n",
    "NotDS_title['Q26'].mode()"
   ]
  },
  {
   "cell_type": "code",
   "execution_count": 52,
   "metadata": {},
   "outputs": [
    {
     "data": {
      "text/plain": [
       "Yes      0.534164\n",
       "No       0.251828\n",
       "Maybe    0.214009\n",
       "Name: Q26, dtype: float64"
      ]
     },
     "execution_count": 52,
     "metadata": {},
     "output_type": "execute_result"
    }
   ],
   "source": [
    "# only 25% people are certain they are not data scientists\n",
    "data['Q26'].value_counts(normalize=True)"
   ]
  },
  {
   "cell_type": "code",
   "execution_count": 53,
   "metadata": {},
   "outputs": [],
   "source": [
    "# fill those nan values yes\n",
    "data['Q26'] = data['Q26'].fillna('Yes')"
   ]
  },
  {
   "cell_type": "markdown",
   "metadata": {},
   "source": [
    "#### Q31: Which type of data do you currently interact with most often at work?"
   ]
  },
  {
   "cell_type": "code",
   "execution_count": 54,
   "metadata": {},
   "outputs": [
    {
     "data": {
      "text/plain": [
       "{'Audio:': 0.9564456542873809,\n",
       " 'Categorical:': 0.6004925789098451,\n",
       " 'Genetic:': 0.9489273446107979,\n",
       " 'Geospatial:': 0.8845680212586687,\n",
       " 'Image:': 0.75701600881457,\n",
       " 'Numerical': 0.5315315315315315,\n",
       " 'Other:': 0.9806857216929159,\n",
       " 'Sensor:': 0.8772441506254456,\n",
       " 'Tabular:': 0.6346490375267354,\n",
       " 'Text:': 0.5819560567762007,\n",
       " 'Time:': 0.612677425627066,\n",
       " 'Video:': 0.9364832458357638}"
      ]
     },
     "execution_count": 54,
     "metadata": {},
     "output_type": "execute_result"
    }
   ],
   "source": [
    "# get the percentage of each part\n",
    "Q31P1 = data['Q31_Part_1'].value_counts(normalize=True).tolist()\n",
    "Q31P2 = data['Q31_Part_2'].value_counts(normalize=True).tolist()\n",
    "Q31P3 = data['Q31_Part_3'].value_counts(normalize=True).tolist()\n",
    "Q31P4 = data['Q31_Part_4'].value_counts(normalize=True).tolist()\n",
    "Q31P5 = data['Q31_Part_5'].value_counts(normalize=True).tolist()\n",
    "Q31P6 = data['Q31_Part_6'].value_counts(normalize=True).tolist()\n",
    "Q31P7 = data['Q31_Part_7'].value_counts(normalize=True).tolist()\n",
    "Q31P8 = data['Q31_Part_8'].value_counts(normalize=True).tolist()\n",
    "Q31P9 = data['Q31_Part_9'].value_counts(normalize=True).tolist()\n",
    "Q31P10 = data['Q31_Part_10'].value_counts(normalize=True).tolist()\n",
    "Q31P11 = data['Q31_Part_11'].value_counts(normalize=True).tolist()\n",
    "Q31P12 = data['Q31_Part_12'].value_counts(normalize=True).tolist()\n",
    "# Create a dictionary with the percentage of people working with each kinds of data\n",
    "dict_Q31 = {'Audio:': Q31P1[0], 'Categorical:': Q31P2[0], 'Genetic:':Q31P3[0], 'Geospatial:':Q31P4[0], 'Image:':Q31P5[0], 'Numerical':Q31P6[0], 'Sensor:':Q31P7[0], 'Tabular:':Q31P8[0], 'Text:':Q31P9[0], 'Time:':Q31P10[0],'Video:':Q31P11[0],'Other:':Q31P12[0]}\n",
    "# Audio (1), Genetic (3), Other(12) and Video(11) all have above 90%\n",
    "dict_Q31"
   ]
  },
  {
   "cell_type": "code",
   "execution_count": 55,
   "metadata": {},
   "outputs": [
    {
     "name": "stdout",
     "output_type": "stream",
     "text": [
      "Complete: 100.0%\n"
     ]
    }
   ],
   "source": [
    "# takes 10 min to run\n",
    "# fill Part 1, Part 3, Part 7 and Part 12 with 1 for the NaN values\n",
    "Q31_nan_row_index = Q31_combined.index[Q31_combined.isna()].tolist()\n",
    "iteration = 1\n",
    "for i in Q31_nan_row_index:\n",
    "    data['Q31_Part_1'].loc[i]=1\n",
    "    data['Q31_Part_3'].loc[i]=1\n",
    "    data['Q31_Part_11'].loc[i]=1\n",
    "    data['Q31_Part_12'].loc[i]=1\n",
    "    percent_complete = round((iteration/len(Q31_nan_row_index))*100,2)\n",
    "    clear_output(wait=True)\n",
    "    iteration = iteration + 1\n",
    "    print('Complete: ' + str(percent_complete) + '%')"
   ]
  },
  {
   "cell_type": "markdown",
   "metadata": {},
   "source": [
    "#### Q33: Where do you find public data sets"
   ]
  },
  {
   "cell_type": "code",
   "execution_count": 56,
   "metadata": {},
   "outputs": [
    {
     "data": {
      "text/plain": [
       "{'Dataset Aggregator:': 0.620195735303649,\n",
       " 'GitHub:': 0.7183226391859485,\n",
       " 'Google Dataset Search:': 0.8312917233780543,\n",
       " 'Google Search:': 0.6668611057100265,\n",
       " 'Government:': 0.7638213753321667,\n",
       " 'Non Profit Research:': 0.8656426210383045,\n",
       " 'None:': 0.8958454857735433,\n",
       " 'Other:': 0.9364832458357638,\n",
       " 'Own:': 0.7413960723313241,\n",
       " 'Public Release from Private Company': 0.8532633352777238,\n",
       " 'University Research:': 0.8040054442932141}"
      ]
     },
     "execution_count": 56,
     "metadata": {},
     "output_type": "execute_result"
    }
   ],
   "source": [
    "# get the percentage of each part\n",
    "Q33P1 = data['Q33_Part_1'].value_counts(normalize=True).tolist()\n",
    "Q33P2 = data['Q33_Part_2'].value_counts(normalize=True).tolist()\n",
    "Q33P3 = data['Q33_Part_3'].value_counts(normalize=True).tolist()\n",
    "Q33P4 = data['Q33_Part_4'].value_counts(normalize=True).tolist()\n",
    "Q33P5 = data['Q33_Part_5'].value_counts(normalize=True).tolist()\n",
    "Q33P6 = data['Q33_Part_6'].value_counts(normalize=True).tolist()\n",
    "Q33P7 = data['Q33_Part_7'].value_counts(normalize=True).tolist()\n",
    "Q33P8 = data['Q33_Part_8'].value_counts(normalize=True).tolist()\n",
    "Q33P9 = data['Q33_Part_9'].value_counts(normalize=True).tolist()\n",
    "Q33P10 = data['Q33_Part_10'].value_counts(normalize=True).tolist()\n",
    "Q33P11 = data['Q33_Part_11'].value_counts(normalize=True).tolist()\n",
    "# Create a dictionary with the percentage of people working with each kinds of data\n",
    "dict_Q33 = {'Government:': Q33P1[0], 'University Research:': Q33P2[0], 'Non Profit Research:':Q33P3[0], 'Dataset Aggregator:':Q33P4[0], 'Own:':Q33P5[0], 'Public Release from Private Company':Q33P6[0], 'Google Search:':Q33P7[0], 'Google Dataset Search:':Q33P8[0], 'GitHub:':Q33P9[0], 'None:':Q33P10[0],'Other:':Q31P11[0]}\n",
    "# Other(8) have above 90%\n",
    "dict_Q33"
   ]
  },
  {
   "cell_type": "code",
   "execution_count": 57,
   "metadata": {},
   "outputs": [
    {
     "name": "stdout",
     "output_type": "stream",
     "text": [
      "Complete: 100.0%\n"
     ]
    }
   ],
   "source": [
    "Q33_nan_row_index = Q33_combined.index[Q33_combined.isna()].tolist()\n",
    "iteration = 1\n",
    "for i in Q33_nan_row_index:\n",
    "    data['Q33_Part_11'].loc[i]=1\n",
    "    percent_complete = round((iteration/len(Q33_nan_row_index))*100,2)\n",
    "    clear_output(wait=True)\n",
    "    iteration = iteration + 1\n",
    "    print('Complete: ' + str(percent_complete) + '%')"
   ]
  },
  {
   "cell_type": "markdown",
   "metadata": {},
   "source": [
    "### Cleaned Data"
   ]
  },
  {
   "cell_type": "code",
   "execution_count": 72,
   "metadata": {},
   "outputs": [],
   "source": [
    "Q1_dummies = dummy('Q1')\n",
    "Q2_dummies = dummy('Q2')\n",
    "Q3_dummies = dummy('Q3')\n",
    "Q4_dummies = dummy('Q4')\n",
    "Q5_dummies = dummy('Q5')\n",
    "Q6_dummies = dummy('Q6')\n",
    "Q7_dummies = dummy('Q7')\n",
    "Q8_dummies = dummy('Q8')\n",
    "Q10_dummies = dummy('Q10')\n",
    "Q12_dummies = dummy('Q12_MULTIPLE_CHOICE')\n",
    "#Q17_dummies = dummy('Q17')\n",
    "Q18_dummies = dummy('Q18')\n",
    "#Q20_dummies = dummy('Q20')\n",
    "#Q22_dummies = dummy('Q22')\n",
    "Q23_dummies = dummy('Q23')\n",
    "Q24_dummies = dummy('Q24')\n",
    "Q25_dummies = dummy('Q25')\n",
    "Q26_dummies = dummy('Q26')\n",
    "#Q32_dummies = dummy('Q32')\n",
    "#Q37_dummies = dummy('Q37')\n",
    "#Q39P1_dummies = dummy('Q39_Part_1')\n",
    "#Q39P2_dummies = dummy('Q39_Part_2')\n",
    "#Q40_dummies = dummy('Q40')\n",
    "#Q41P1_dummies = dummy('Q41_Part_1')\n",
    "#Q41P2_dummies = dummy('Q41_Part_2')\n",
    "#Q41P3_dummies = dummy('Q41_Part_3')\n",
    "#Q43_dummies = dummy('Q43')\n",
    "#Q46_dummies = dummy('Q46')\n",
    "#Q48_dummies = dummy('Q48')"
   ]
  },
  {
   "cell_type": "code",
   "execution_count": 76,
   "metadata": {},
   "outputs": [],
   "source": [
    "# concatenate all dummy data\n",
    "dummy_data = pd.concat([Q1_dummies, Q2_dummies, Q3_dummies, Q4_dummies, Q5_dummies, Q6_dummies, Q7_dummies, Q8_dummies, Q10_dummies, Q12_dummies, Q18_dummies, Q23_dummies, Q24_dummies, Q25_dummies, Q26_dummies], axis=1)\n",
    "# drop any column with \"TEXT\" in title\n",
    "data.drop([col for col in data.columns if 'TEXT' in col],axis=1,inplace=True)\n",
    "# drop other unecessary columns\n",
    " data.drop(['Unnamed: 0', 'Time from Start to Finish (seconds)', 'index', 'Salary_label'], axis=1, inplace=True)\n",
    "# drop the non-encoded columns\n",
    "data.drop(['Q1','Q2','Q3','Q4','Q5','Q6','Q7','Q8','Q10','Q12_MULTIPLE_CHOICE','Q18','Q23','Q24','Q25','Q26'], axis=1, inplace=True)\n",
    "# form cleaned data\n",
    "cleaned_data = pd.concat([dummy_data, data], axis=1)"
   ]
  },
  {
   "cell_type": "markdown",
   "metadata": {},
   "source": [
    "### Feature Selection"
   ]
  },
  {
   "cell_type": "code",
   "execution_count": 79,
   "metadata": {},
   "outputs": [],
   "source": [
    "X = cleaned_data.drop(['Q9'],axis=1)\n",
    "y = cleaned_data['Q9']\n",
    "X_train, X_test, y_train, y_test = train_test_split(X, y, random_state=42, test_size=0.3)"
   ]
  },
  {
   "cell_type": "code",
   "execution_count": 48,
   "metadata": {},
   "outputs": [],
   "source": [
    "# clf = linear_model.Lasso(alpha=0.1)\n",
    "# clf.fit(X_train, y_train)"
   ]
  },
  {
   "cell_type": "code",
   "execution_count": 49,
   "metadata": {},
   "outputs": [],
   "source": [
    "# scaler = StandardScaler()\n",
    "# scaler.fit(X_train.fillna(0))"
   ]
  },
  {
   "cell_type": "code",
   "execution_count": 80,
   "metadata": {},
   "outputs": [
    {
     "name": "stderr",
     "output_type": "stream",
     "text": [
      "/home/aaron/.local/lib/python3.5/site-packages/sklearn/linear_model/logistic.py:432: FutureWarning: Default solver will be changed to 'lbfgs' in 0.22. Specify a solver to silence this warning.\n",
      "  FutureWarning)\n",
      "/home/aaron/.local/lib/python3.5/site-packages/sklearn/linear_model/logistic.py:469: FutureWarning: Default multi_class will be changed to 'auto' in 0.22. Specify the multi_class option to silence this warning.\n",
      "  \"this warning.\", FutureWarning)\n"
     ]
    },
    {
     "data": {
      "text/plain": [
       "SelectFromModel(estimator=LogisticRegression(C=1, class_weight=None, dual=False,\n",
       "                                             fit_intercept=True,\n",
       "                                             intercept_scaling=1, l1_ratio=None,\n",
       "                                             max_iter=100, multi_class='warn',\n",
       "                                             n_jobs=None, penalty='l1',\n",
       "                                             random_state=None, solver='warn',\n",
       "                                             tol=0.0001, verbose=0,\n",
       "                                             warm_start=False),\n",
       "                max_features=None, norm_order=1, prefit=False, threshold=None)"
      ]
     },
     "execution_count": 80,
     "metadata": {},
     "output_type": "execute_result"
    }
   ],
   "source": [
    "sel_ = SelectFromModel(LogisticRegression(C=1, penalty='l1'))\n",
    "sel_.fit(X_train, y_train)"
   ]
  },
  {
   "cell_type": "code",
   "execution_count": 81,
   "metadata": {},
   "outputs": [
    {
     "data": {
      "text/plain": [
       "array([ True,  True,  True,  True,  True,  True,  True,  True,  True,\n",
       "        True,  True,  True,  True,  True,  True,  True,  True,  True,\n",
       "        True,  True,  True,  True,  True,  True,  True,  True,  True,\n",
       "        True,  True,  True,  True,  True,  True,  True,  True,  True,\n",
       "        True,  True,  True,  True,  True,  True,  True,  True,  True,\n",
       "        True,  True,  True,  True,  True,  True,  True,  True,  True,\n",
       "        True,  True,  True,  True,  True,  True,  True,  True,  True,\n",
       "        True,  True,  True,  True,  True,  True,  True,  True,  True,\n",
       "        True,  True,  True,  True,  True,  True,  True,  True,  True,\n",
       "        True,  True,  True,  True,  True,  True,  True,  True,  True,\n",
       "        True,  True,  True,  True,  True,  True,  True,  True,  True,\n",
       "        True,  True,  True,  True,  True,  True,  True,  True,  True,\n",
       "        True,  True,  True,  True,  True,  True,  True,  True,  True,\n",
       "        True,  True,  True,  True,  True,  True,  True,  True,  True,\n",
       "        True,  True,  True,  True,  True,  True,  True,  True,  True,\n",
       "        True,  True,  True,  True,  True,  True,  True,  True,  True,\n",
       "        True,  True,  True,  True,  True,  True,  True,  True,  True,\n",
       "        True,  True,  True,  True,  True,  True,  True,  True,  True,\n",
       "        True,  True,  True,  True,  True,  True,  True,  True,  True,\n",
       "        True,  True,  True,  True,  True,  True,  True,  True,  True,\n",
       "        True,  True,  True,  True,  True,  True,  True,  True,  True,\n",
       "        True,  True,  True,  True,  True,  True,  True,  True,  True,\n",
       "        True,  True,  True,  True,  True,  True,  True,  True,  True,\n",
       "        True,  True,  True,  True,  True,  True,  True,  True,  True,\n",
       "        True,  True,  True,  True,  True,  True,  True,  True,  True,\n",
       "        True])"
      ]
     },
     "execution_count": 81,
     "metadata": {},
     "output_type": "execute_result"
    }
   ],
   "source": [
    "sel_.get_support()"
   ]
  },
  {
   "cell_type": "code",
   "execution_count": 82,
   "metadata": {},
   "outputs": [
    {
     "name": "stdout",
     "output_type": "stream",
     "text": [
      "total features: 226\n",
      "selected features: 226\n",
      "features with coefficients shrank to zero: 1230\n"
     ]
    }
   ],
   "source": [
    "selected_feat = X_train.columns[(sel_.get_support())]\n",
    "print('total features: {}'.format((X_train.shape[1])))\n",
    "print('selected features: {}'.format(len(selected_feat)))\n",
    "print('features with coefficients shrank to zero: {}'.format(\n",
    "      np.sum(sel_.estimator_.coef_ == 0)))"
   ]
  },
  {
   "cell_type": "code",
   "execution_count": 54,
   "metadata": {},
   "outputs": [
    {
     "ename": "IndexError",
     "evalue": "boolean index did not match indexed array along dimension 0; dimension is 595 but corresponding boolean dimension is 10710",
     "output_type": "error",
     "traceback": [
      "\u001b[0;31m---------------------------------------------------------------------------\u001b[0m",
      "\u001b[0;31mIndexError\u001b[0m                                Traceback (most recent call last)",
      "\u001b[0;32m<ipython-input-54-7378b7a7b11e>\u001b[0m in \u001b[0;36m<module>\u001b[0;34m\u001b[0m\n\u001b[0;32m----> 1\u001b[0;31m \u001b[0mremoved_feats\u001b[0m \u001b[0;34m=\u001b[0m \u001b[0mX_train\u001b[0m\u001b[0;34m.\u001b[0m\u001b[0mcolumns\u001b[0m\u001b[0;34m[\u001b[0m\u001b[0;34m(\u001b[0m\u001b[0msel_\u001b[0m\u001b[0;34m.\u001b[0m\u001b[0mestimator_\u001b[0m\u001b[0;34m.\u001b[0m\u001b[0mcoef_\u001b[0m \u001b[0;34m==\u001b[0m \u001b[0;36m0\u001b[0m\u001b[0;34m)\u001b[0m\u001b[0;34m.\u001b[0m\u001b[0mravel\u001b[0m\u001b[0;34m(\u001b[0m\u001b[0;34m)\u001b[0m\u001b[0;34m.\u001b[0m\u001b[0mtolist\u001b[0m\u001b[0;34m(\u001b[0m\u001b[0;34m)\u001b[0m\u001b[0;34m]\u001b[0m\u001b[0;34m\u001b[0m\u001b[0m\n\u001b[0m\u001b[1;32m      2\u001b[0m \u001b[0mremoved_feats\u001b[0m\u001b[0;34m\u001b[0m\u001b[0m\n",
      "\u001b[0;32m~/.local/lib/python3.5/site-packages/pandas/core/indexes/base.py\u001b[0m in \u001b[0;36m__getitem__\u001b[0;34m(self, key)\u001b[0m\n\u001b[1;32m   3967\u001b[0m \u001b[0;34m\u001b[0m\u001b[0m\n\u001b[1;32m   3968\u001b[0m         \u001b[0mkey\u001b[0m \u001b[0;34m=\u001b[0m \u001b[0mcom\u001b[0m\u001b[0;34m.\u001b[0m\u001b[0mvalues_from_object\u001b[0m\u001b[0;34m(\u001b[0m\u001b[0mkey\u001b[0m\u001b[0;34m)\u001b[0m\u001b[0;34m\u001b[0m\u001b[0m\n\u001b[0;32m-> 3969\u001b[0;31m         \u001b[0mresult\u001b[0m \u001b[0;34m=\u001b[0m \u001b[0mgetitem\u001b[0m\u001b[0;34m(\u001b[0m\u001b[0mkey\u001b[0m\u001b[0;34m)\u001b[0m\u001b[0;34m\u001b[0m\u001b[0m\n\u001b[0m\u001b[1;32m   3970\u001b[0m         \u001b[0;32mif\u001b[0m \u001b[0;32mnot\u001b[0m \u001b[0mis_scalar\u001b[0m\u001b[0;34m(\u001b[0m\u001b[0mresult\u001b[0m\u001b[0;34m)\u001b[0m\u001b[0;34m:\u001b[0m\u001b[0;34m\u001b[0m\u001b[0m\n\u001b[1;32m   3971\u001b[0m             \u001b[0;32mreturn\u001b[0m \u001b[0mpromote\u001b[0m\u001b[0;34m(\u001b[0m\u001b[0mresult\u001b[0m\u001b[0;34m)\u001b[0m\u001b[0;34m\u001b[0m\u001b[0m\n",
      "\u001b[0;31mIndexError\u001b[0m: boolean index did not match indexed array along dimension 0; dimension is 595 but corresponding boolean dimension is 10710"
     ]
    }
   ],
   "source": [
    "removed_feats = X_train.columns[(sel_.estimator_.coef_ == 0).ravel().tolist()]\n",
    "removed_feats"
   ]
  },
  {
   "cell_type": "markdown",
   "metadata": {},
   "source": [
    "### Logistic Regression"
   ]
  },
  {
   "cell_type": "code",
   "execution_count": 43,
   "metadata": {},
   "outputs": [],
   "source": [
    "X = cleaned_data.drop(['Q9'],axis=1)\n",
    "y = cleaned_data['Q9']\n",
    "X_train, X_test, y_train, y_test = train_test_split(X, y, random_state=42, test_size=0.3)"
   ]
  },
  {
   "cell_type": "code",
   "execution_count": 45,
   "metadata": {},
   "outputs": [
    {
     "data": {
      "text/plain": [
       "LogisticRegression(C=1.0, class_weight=None, dual=False, fit_intercept=True,\n",
       "                   intercept_scaling=1, l1_ratio=None, max_iter=100,\n",
       "                   multi_class='warn', n_jobs=None, penalty='l2',\n",
       "                   random_state=None, solver='warn', tol=0.0001, verbose=0,\n",
       "                   warm_start=False)"
      ]
     },
     "execution_count": 45,
     "metadata": {},
     "output_type": "execute_result"
    }
   ],
   "source": [
    "import warnings\n",
    "#warnings.filterwarnings(\"ignore\", category=ConvergenceWarning)\n",
    "warnings.filterwarnings(\"ignore\")\n",
    "model = LogisticRegression()    \n",
    "model.fit(X_train, y_train)"
   ]
  },
  {
   "cell_type": "code",
   "execution_count": 48,
   "metadata": {},
   "outputs": [
    {
     "name": "stdout",
     "output_type": "stream",
     "text": [
      "Fold 1: Accuracy: 0.784%\n",
      "Fold 2: Accuracy: 0.73%\n",
      "Fold 3: Accuracy: 0.711%\n",
      "Fold 4: Accuracy: 0.747%\n",
      "Fold 5: Accuracy: 0.75%\n",
      "Fold 6: Accuracy: 0.746%\n",
      "Fold 7: Accuracy: 0.771%\n",
      "Fold 8: Accuracy: 0.767%\n",
      "Fold 9: Accuracy: 0.737%\n",
      "Fold 10: Accuracy: 0.772%\n",
      "Average Score: 75.161%(2.114%)\n"
     ]
    }
   ],
   "source": [
    "model = LogisticRegression()\n",
    "scaler = StandardScaler()\n",
    "kfold = KFold(n_splits=10)\n",
    "kfold.get_n_splits(X)\n",
    "\n",
    "accuracy = np.zeros(10)\n",
    "np_idx = 0\n",
    "\n",
    "for train_idx, test_idx in kfold.split(X):\n",
    "    X_train, X_test = X.values[train_idx], X.values[test_idx]\n",
    "    y_train, y_test = y.values[train_idx], y.values[test_idx]\n",
    "    \n",
    "    X_train = scaler.fit_transform(X_train)\n",
    "    X_test = scaler.transform(X_test)\n",
    "    \n",
    "    model.fit(X_train, y_train)\n",
    "    \n",
    "    predictions = model.predict(X_test)\n",
    "    \n",
    "    TN = confusion_matrix(y_test, predictions)[0][0]\n",
    "    FP = confusion_matrix(y_test, predictions)[0][1]\n",
    "    FN = confusion_matrix(y_test, predictions)[1][0]\n",
    "    TP = confusion_matrix(y_test, predictions)[1][1]\n",
    "    total = TN + FP + FN + TP\n",
    "    ACC = (TP + TN) / float(total)\n",
    "    \n",
    "    accuracy[np_idx] = ACC*100\n",
    "    np_idx += 1\n",
    "    \n",
    "    print (\"Fold {}: Accuracy: {}%\".format(np_idx, round(ACC,3)))   \n",
    "\n",
    "print (\"Average Score: {}%({}%)\".format(round(np.mean(accuracy),3),round(np.std(accuracy),3)))"
   ]
  }
 ],
 "metadata": {
  "kernelspec": {
   "display_name": "Python 3",
   "language": "python",
   "name": "python3"
  },
  "language_info": {
   "codemirror_mode": {
    "name": "ipython",
    "version": 3
   },
   "file_extension": ".py",
   "mimetype": "text/x-python",
   "name": "python",
   "nbconvert_exporter": "python",
   "pygments_lexer": "ipython3",
   "version": "3.5.2"
  }
 },
 "nbformat": 4,
 "nbformat_minor": 2
}
