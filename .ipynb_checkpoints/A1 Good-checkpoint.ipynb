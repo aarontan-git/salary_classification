{
 "cells": [
  {
   "cell_type": "markdown",
   "metadata": {},
   "source": [
    "# Assignment 1"
   ]
  },
  {
   "cell_type": "markdown",
   "metadata": {},
   "source": [
    "## Import Libraries"
   ]
  },
  {
   "cell_type": "code",
   "execution_count": 52,
   "metadata": {},
   "outputs": [],
   "source": [
    "import pandas as pd\n",
    "import seaborn as sns\n",
    "import numpy as np\n",
    "import matplotlib.pyplot as plt\n",
    "#sklearn\n",
    "from sklearn.model_selection import train_test_split\n",
    "from sklearn.linear_model import LogisticRegression\n",
    "from sklearn.preprocessing import StandardScaler\n",
    "from sklearn.model_selection import KFold\n",
    "from sklearn.metrics import make_scorer, confusion_matrix\n",
    "from sklearn.feature_selection import SelectFromModel\n",
    "from sklearn.preprocessing import StandardScaler\n",
    "from sklearn import linear_model\n",
    "# The following line is needed to show plots inline in notebooks\n",
    "%matplotlib inline "
   ]
  },
  {
   "cell_type": "markdown",
   "metadata": {},
   "source": [
    "##### Read CSV File"
   ]
  },
  {
   "cell_type": "code",
   "execution_count": 53,
   "metadata": {},
   "outputs": [],
   "source": [
    "data = pd.read_csv('Kaggle_Salary.csv')\n",
    "# drop row index 0 because it holds the Questions (inplace is to remove permanently)\n",
    "data.drop(data.index[0], inplace=True)"
   ]
  },
  {
   "cell_type": "markdown",
   "metadata": {},
   "source": [
    "##### Basic Functions"
   ]
  },
  {
   "cell_type": "code",
   "execution_count": 54,
   "metadata": {},
   "outputs": [],
   "source": [
    "# Function to calculate how many missing values are in a column\n",
    "def how_many_nan(col_name):\n",
    "    amount = col_name[col_name.isna()].shape[0]\n",
    "    return amount\n",
    "# accepts a column name and a list of words that needs to be removed\n",
    "def remove_words(col_name, unwanted_words):\n",
    "    pat = r'\\b(?:{})\\b'.format('|'.join(unwanted_words))\n",
    "    data[col_name] = data[col_name].str.replace(pat, '')\n",
    "    data[col_name] = data[col_name].str.strip()\n"
   ]
  },
  {
   "cell_type": "code",
   "execution_count": 55,
   "metadata": {},
   "outputs": [],
   "source": [
    "# # convert salary in to categorical data\n",
    "# data.Q9 = pd.Categorical(data.Q9)"
   ]
  },
  {
   "cell_type": "code",
   "execution_count": 56,
   "metadata": {},
   "outputs": [],
   "source": [
    "# Label the salary range for data exploration\n",
    "def encode_salary(salary):\n",
    "    if \"0-10,000\" in salary:\n",
    "        return 5000\n",
    "    if \"10-20,000\" in salary:\n",
    "        return 15000\n",
    "    if \"20-30,000\" in salary:\n",
    "        return 25000\n",
    "    if \"30-40,000\" in salary:\n",
    "        return 35000\n",
    "    if \"40-50,000\" in salary:\n",
    "        return 45000\n",
    "    if \"50-60,000\" in salary:\n",
    "        return 55000\n",
    "    if \"60-70,000\" in salary:\n",
    "        return 65000\n",
    "    if \"70-80,000\" in salary:\n",
    "        return 75000\n",
    "    if \"80-90,000\" in salary:\n",
    "        return 85000\n",
    "    if \"90-100,000\" in salary:\n",
    "        return 95000\n",
    "    if \"100-125,000\" in salary:\n",
    "        return 112500\n",
    "    if \"125-150,000\" in salary:\n",
    "        return 137500\n",
    "    if \"150-200,000\" in salary:\n",
    "        return 175000\n",
    "    if \"200-250,000\" in salary:\n",
    "        return 225000\n",
    "    if \"250-300,000\" in salary:\n",
    "        return 275000\n",
    "    if \"300-400,000\" in salary:\n",
    "        return 250000\n",
    "    if \"400-500,000\" in salary:\n",
    "        return 450000\n",
    "    if \"500,000+\" in salary:\n",
    "        return 550000\n",
    "# Create a new column with the encoded salary\n",
    "data[\"Salary_label\"]=data[\"Q9\"].apply(encode_salary)"
   ]
  },
  {
   "cell_type": "markdown",
   "metadata": {},
   "source": [
    "## Data Exploration"
   ]
  },
  {
   "cell_type": "markdown",
   "metadata": {},
   "source": [
    "#### Q1: Gender"
   ]
  },
  {
   "cell_type": "code",
   "execution_count": 57,
   "metadata": {},
   "outputs": [],
   "source": [
    "# Q1: Gender\n",
    "# Combine gender cateogires less than 150 with Other (prefer not to say, prefer to self-describe)\n",
    "gender_count = data.Q1.value_counts()\n",
    "value_mask = data.Q1.isin(gender_count.index[gender_count < 150]) \n",
    "data.loc[value_mask,'Q1'] = \"Other\"\n",
    "# sns.catplot(x='Q1', y='Salary_label', data=data, order=['Female','Male','Other'], kind=\"box\").fig.set_size_inches(10,5)\n",
    "# plt.ylim(0, 250000) # limit the y axis to 250000"
   ]
  },
  {
   "cell_type": "markdown",
   "metadata": {},
   "source": [
    "#### Q2: Age"
   ]
  },
  {
   "cell_type": "code",
   "execution_count": 58,
   "metadata": {},
   "outputs": [],
   "source": [
    "# Q2: Age\n",
    "age_count = data.Q2.value_counts()\n",
    "# Made a new age category of above 70 years old\n",
    "value_mask = data.Q2.isin(age_count.index[age_count < 180]) \n",
    "data.loc[value_mask,'Q2'] = \"70+\"\n",
    "# sns.catplot(x='Q2', y='Salary_label', data=data, order = ['18-21','22-24','25-29','30-34','35-39','40-44','45-49','50-54','55-59','60-69','70+'], kind=\"box\").fig.set_size_inches(10,5)\n",
    "# plt.ylim(0, 300000) # limit the y axis to 300000"
   ]
  },
  {
   "cell_type": "markdown",
   "metadata": {},
   "source": [
    "#### Q3: Country"
   ]
  },
  {
   "cell_type": "code",
   "execution_count": 59,
   "metadata": {},
   "outputs": [],
   "source": [
    "# Q3: Countries\n",
    "# Categorize any country less than a threshold count in to other\n",
    "countries_count = data.Q3.value_counts()\n",
    "value_mask = data.Q3.isin(countries_count.index[countries_count < 200]) \n",
    "data.loc[value_mask,'Q3'] = \"Other\"\n",
    "# Simplify Name\n",
    "data['Q3'] = data['Q3'].replace('United States of America', 'USA')\n",
    "data['Q3'] = data['Q3'].replace('United Kingdom of Great Britain and Northern Ireland', 'UKGBNI')\n",
    "# Group together \"I do not wish to disclose my location\" with \"Other\"\n",
    "data['Q3'] = data['Q3'].replace('I do not wish to disclose my location', 'Other')\n",
    "# sns.catplot(x='Q3', y='Salary_label', data=data, order = ['India','China','Russia','Brazil','Poland','Other','Italy','Spain','France','Germany','Japan','UKGBNI','Canada','Australia','USA'],kind=\"box\").fig.set_size_inches(20,8)\n",
    "# plt.ylim(0, 300000) # limit the y axis to 250000"
   ]
  },
  {
   "cell_type": "markdown",
   "metadata": {},
   "source": [
    "#### Q4: Highest level of education "
   ]
  },
  {
   "cell_type": "code",
   "execution_count": 60,
   "metadata": {},
   "outputs": [],
   "source": [
    "# Q4: Highest level of education\n",
    "degree_count = data.Q4.value_counts(normalize=True)\n",
    "# Simplify category name\n",
    "data['Q4'] = data['Q4'].replace('Some college/university study without earning a bachelor’s degree', 'Non-conferred')\n",
    "data['Q4'] = data['Q4'].replace('No formal education past high school', 'Secondary School')\n",
    "# sns.catplot(x='Q4', y='Salary_label', data=data, order=['I prefer not to answer','Secondary School','Professional degree','Non-conferred','Bachelor’s degree','Master’s degree','Doctoral degree'],kind=\"box\").fig.set_size_inches(20,10)\n",
    "# plt.ylim(0, 200000) # limit the y axis to 250000"
   ]
  },
  {
   "cell_type": "code",
   "execution_count": 61,
   "metadata": {},
   "outputs": [],
   "source": [
    "# Since \"Non-conferred\" and \"I prefer not to answer\" show similar salary earnings, I can combine them\n",
    "data['Q4'] = data['Q4'].replace('Non-conferred', 'Other')\n",
    "data['Q4'] = data['Q4'].replace('I prefer not to answer', 'Other')\n",
    "data['Q4'] = data['Q4'].replace('Bachelor’s degree', 'Other')\n",
    "# sns.catplot(x='Q4', y='Salary_label', data=data, order=['Other','Secondary School','Professional degree','Master’s degree','Doctoral degree'],kind=\"box\").fig.set_size_inches(20,10)\n",
    "# plt.ylim(0, 200000) # limit the y axis to 250000"
   ]
  },
  {
   "cell_type": "markdown",
   "metadata": {},
   "source": [
    "#### Q5: Major in University/College"
   ]
  },
  {
   "cell_type": "code",
   "execution_count": 62,
   "metadata": {},
   "outputs": [],
   "source": [
    "# Q5: Major in University/College\n",
    "# There is 135 missing values\n",
    "a = data[data['Q5'].isna()]\n",
    "how_many_nan(data['Q5'])\n",
    "# Simplified naming\n",
    "data['Q5'] = data['Q5'].replace('A business discipline (accounting, economics, finance, etc.)', 'Business')\n",
    "data['Q5'] = data['Q5'].replace('Information technology, networking, or system administration', 'Information technology')\n",
    "data['Q5'] = data['Q5'].replace('Medical or life sciences (biology, chemistry, medicine, etc.)', 'Medical/Life Science')\n",
    "data['Q5'] = data['Q5'].replace('Social sciences (anthropology, psychology, sociology, etc.)', 'Social Science')\n",
    "data['Q5'] = data['Q5'].replace('Humanities (history, literature, philosophy, etc.)', 'Humanities')\n",
    "data['Q5'] = data['Q5'].replace('Mathematics or statistics', 'Math')\n",
    "data['Q5'] = data['Q5'].replace('Computer science (software engineering, etc.)', 'Comp. Sci & Soft. Eng.')\n",
    "data['Q5'] = data['Q5'].replace('Engineering (non-computer focused)', 'Engineering (Non. Soft. Eng.)')\n",
    "# Grouped together non-STEM with others\n",
    "data['Q5'] = data['Q5'].replace('I never declared a major', 'Other')\n",
    "data['Q5'] = data['Q5'].replace('Fine arts or performing arts', 'Other')\n",
    "data['Q5'] = data['Q5'].replace('Humanities', 'Other')\n",
    "# sns.catplot(x='Q5', y='Salary_label', data=data, kind=\"box\").fig.set_size_inches(25,10)\n",
    "# plt.ylim(0, 200000) # limit the y axis to 250000"
   ]
  },
  {
   "cell_type": "markdown",
   "metadata": {},
   "source": [
    "#### Q6: Position Title"
   ]
  },
  {
   "cell_type": "code",
   "execution_count": 63,
   "metadata": {},
   "outputs": [],
   "source": [
    "# Q6: Position Title\n",
    "# Eliminate position titles less than a threshold\n",
    "title_count = data.Q6.value_counts()\n",
    "value_mask = data.Q6.isin(title_count.index[title_count < 200]) \n",
    "data.loc[value_mask,'Q6'] = \"Other\"\n",
    "# sns.catplot(x='Q6', y='Salary_label', data=data, kind=\"box\").fig.set_size_inches(25,10)\n",
    "# plt.ylim(0, 300000) # limit the y axis to 250000"
   ]
  },
  {
   "cell_type": "markdown",
   "metadata": {},
   "source": [
    "#### Q7: Position Title "
   ]
  },
  {
   "cell_type": "code",
   "execution_count": 64,
   "metadata": {},
   "outputs": [],
   "source": [
    "# Q7: Industry\n",
    "industry_count = data.Q7.value_counts()\n",
    "value_mask = data.Q7.isin(industry_count.index[industry_count < 200]) \n",
    "data.loc[value_mask,'Q7'] = \"Other\"\n",
    "# sns.catplot(x='Q7', y='Salary_label', data=data, kind=\"box\").fig.set_size_inches(40,10)\n",
    "# plt.ylim(0, 200000) # limit the y axis to 250000"
   ]
  },
  {
   "cell_type": "markdown",
   "metadata": {},
   "source": [
    "#### Q8: Years of Experience"
   ]
  },
  {
   "cell_type": "code",
   "execution_count": 65,
   "metadata": {},
   "outputs": [],
   "source": [
    "# Q8: Years of Experience\n",
    "# There's 76 missing values - Should just remove it\n",
    "how_many_nan(data['Q8'])\n",
    "# Recategorize YOE\n",
    "data['Q8'] = data['Q8'].replace('0-1', '0-3') # 0-3 years\n",
    "data['Q8'] = data['Q8'].replace('1-2', '0-3')\n",
    "data['Q8'] = data['Q8'].replace('2-3', '0-3')\n",
    "data['Q8'] = data['Q8'].replace('3-4', '3-5') # 3-5 years\n",
    "data['Q8'] = data['Q8'].replace('4-5', '3-5')\n",
    "data['Q8'] = data['Q8'].replace('20-25', '20-30') # 20-30 years\n",
    "data['Q8'] = data['Q8'].replace('25-30', '20-30')\n",
    "# sns.catplot(x='Q8', y='Salary_label', data=data, order=['0-3','3-5','5-10','10-15','15-20','20-30','30 +'], kind=\"box\").fig.set_size_inches(10,5)\n",
    "# plt.ylim(0, 300000) # limit the y axis to 300000"
   ]
  },
  {
   "cell_type": "markdown",
   "metadata": {},
   "source": [
    "#### Q40"
   ]
  },
  {
   "cell_type": "code",
   "execution_count": 66,
   "metadata": {},
   "outputs": [
    {
     "data": {
      "text/plain": [
       "3763"
      ]
     },
     "execution_count": 66,
     "metadata": {},
     "output_type": "execute_result"
    }
   ],
   "source": [
    "# Clean up Q40\n",
    "Q40_words = ['Independent', 'projects', 'are', 'important', 'than', 'academic', 'achievements']\n",
    "remove_words('Q40', Q40_words)\n",
    "# 3763 missing values\n",
    "how_many_nan(data['Q40'])"
   ]
  },
  {
   "cell_type": "markdown",
   "metadata": {},
   "source": [
    "### Encode Features"
   ]
  },
  {
   "cell_type": "code",
   "execution_count": 70,
   "metadata": {},
   "outputs": [],
   "source": [
    "class combine_col:\n",
    "    # Function to concatenate multiple columns of num in to one single column (by addition)\n",
    "    def sum_int(col_name, start, end):\n",
    "        one = data[col_name+'_Part_'+str(start)]\n",
    "        two = data[col_name+'_Part_'+str(start+1)]\n",
    "        col_combined = one+two\n",
    "        # iterate from start to end\n",
    "        for i in range(start+2, end+1):\n",
    "            next_col = data[col_name+'_Part_'+str(i)]\n",
    "            col_combined = col_combined+next_col\n",
    "        # if the sum of specified columns equal to zero, this row was originally a NaN\n",
    "        col_combined = col_combined.replace(0, np.nan)\n",
    "        return col_combined\n",
    "# Class for filling in information\n",
    "class fill_info:\n",
    "    def nan_text(col_name,start, end):\n",
    "        for i in range (start, end+1): #nan2zero\n",
    "            data[col_name+'_Part_'+str(i)] = data[col_name+'_Part_'+str(i)].fillna(0)\n",
    "        # Before converting all texts to 1, save a list of the categories\n",
    "        features_list = list()\n",
    "        for i in range (start, end+1): # save features to a list\n",
    "            spot = data[col_name+'_Part_'+str(i)].ne(0).idxmax()\n",
    "            feature = data[col_name+'_Part_'+str(i)].iloc[spot-1]\n",
    "            features_list.append(feature)\n",
    "        for i in range (start, end+1): #text2one\n",
    "            data[col_name+'_Part_'+str(i)] = data[col_name+'_Part_'+str(i)].astype(bool).astype(int)\n",
    "        return features_list\n",
    "    def col2num(col_name, start, end):\n",
    "        for i in range (start, end+1): #fill nan with zero\n",
    "            data[col_name+'_Part_'+str(i)] = data[col_name+'_Part_'+str(i)].fillna(0)\n",
    "        for i in range (start, end+1): # convert everything to type float\n",
    "            data[col_name+'_Part_'+str(i)] = data[col_name+'_Part_'+str(i)].astype(float)\n",
    "# encode columns with num\n",
    "def encode_col(col_name, start, end):\n",
    "    features = fill_info.nan_text(col_name, start, end)\n",
    "    combined = combine_col.sum_int(col_name, start, end)\n",
    "    return features, combined\n",
    "# creates dummy columns and drops the original column\n",
    "def dummy(col_name):\n",
    "    global data\n",
    "    dummy = pd.get_dummies(data[col_name], prefix=col_name)\n",
    "    data.drop([col_name], axis=1) # need to drop the original columns\n",
    "    return dummy"
   ]
  },
  {
   "cell_type": "markdown",
   "metadata": {},
   "source": [
    "##### Encode columns that require dummy variables"
   ]
  },
  {
   "cell_type": "code",
   "execution_count": 71,
   "metadata": {},
   "outputs": [],
   "source": [
    "Q1_dummies = dummy('Q1')\n",
    "Q2_dummies = dummy('Q2')\n",
    "Q3_dummies = dummy('Q3')\n",
    "Q4_dummies = dummy('Q4')\n",
    "Q5_dummies = dummy('Q5')\n",
    "Q6_dummies = dummy('Q6')\n",
    "Q7_dummies = dummy('Q7')\n",
    "Q8_dummies = dummy('Q8')\n",
    "Q10_dummies = dummy('Q10')\n",
    "Q12_dummies = dummy('Q12_MULTIPLE_CHOICE')\n",
    "Q17_dummies = dummy('Q17')\n",
    "Q18_dummies = dummy('Q18')\n",
    "Q20_dummies = dummy('Q20')\n",
    "Q22_dummies = dummy('Q22')\n",
    "Q23_dummies = dummy('Q23')\n",
    "Q24_dummies = dummy('Q24')\n",
    "Q25_dummies = dummy('Q25')\n",
    "Q26_dummies = dummy('Q26')\n",
    "Q32_dummies = dummy('Q32')\n",
    "Q37_dummies = dummy('Q37')\n",
    "Q39P1_dummies = dummy('Q39_Part_1')\n",
    "Q39P2_dummies = dummy('Q39_Part_2')\n",
    "Q40_dummies = dummy('Q40')\n",
    "Q41P1_dummies = dummy('Q41_Part_1')\n",
    "Q41P2_dummies = dummy('Q41_Part_2')\n",
    "Q41P3_dummies = dummy('Q41_Part_3')\n",
    "Q43_dummies = dummy('Q43')\n",
    "Q46_dummies = dummy('Q46')\n",
    "Q48_dummies = dummy('Q48')"
   ]
  },
  {
   "cell_type": "code",
   "execution_count": 72,
   "metadata": {},
   "outputs": [
    {
     "data": {
      "text/plain": [
       "Unnamed: 0                               int64\n",
       "Time from Start to Finish (seconds)     object\n",
       "Q1                                      object\n",
       "Q1_OTHER_TEXT                           object\n",
       "Q2                                      object\n",
       "Q3                                      object\n",
       "Q4                                      object\n",
       "Q5                                      object\n",
       "Q6                                      object\n",
       "Q6_OTHER_TEXT                           object\n",
       "Q7                                      object\n",
       "Q7_OTHER_TEXT                           object\n",
       "Q8                                      object\n",
       "Q9                                      object\n",
       "Q10                                     object\n",
       "Q11_Part_1                              object\n",
       "Q11_Part_2                              object\n",
       "Q11_Part_3                              object\n",
       "Q11_Part_4                              object\n",
       "Q11_Part_5                              object\n",
       "Q11_Part_6                              object\n",
       "Q11_Part_7                              object\n",
       "Q11_OTHER_TEXT                          object\n",
       "Q12_MULTIPLE_CHOICE                     object\n",
       "Q12_Part_1_TEXT                         object\n",
       "Q12_Part_2_TEXT                         object\n",
       "Q12_Part_3_TEXT                         object\n",
       "Q12_Part_4_TEXT                         object\n",
       "Q12_Part_5_TEXT                         object\n",
       "Q12_OTHER_TEXT                          object\n",
       "                                        ...   \n",
       "Q47_Part_12                             object\n",
       "Q47_Part_13                             object\n",
       "Q47_Part_14                             object\n",
       "Q47_Part_15                             object\n",
       "Q47_Part_16                             object\n",
       "Q48                                     object\n",
       "Q49_Part_1                              object\n",
       "Q49_Part_2                              object\n",
       "Q49_Part_3                              object\n",
       "Q49_Part_4                              object\n",
       "Q49_Part_5                              object\n",
       "Q49_Part_6                              object\n",
       "Q49_Part_7                              object\n",
       "Q49_Part_8                              object\n",
       "Q49_Part_9                              object\n",
       "Q49_Part_10                             object\n",
       "Q49_Part_11                             object\n",
       "Q49_Part_12                             object\n",
       "Q49_OTHER_TEXT                          object\n",
       "Q50_Part_1                              object\n",
       "Q50_Part_2                              object\n",
       "Q50_Part_3                              object\n",
       "Q50_Part_4                              object\n",
       "Q50_Part_5                              object\n",
       "Q50_Part_6                              object\n",
       "Q50_Part_7                              object\n",
       "Q50_Part_8                              object\n",
       "Q50_OTHER_TEXT                          object\n",
       "index                                  float64\n",
       "Salary_label                             int64\n",
       "Length: 398, dtype: object"
      ]
     },
     "execution_count": 72,
     "metadata": {},
     "output_type": "execute_result"
    }
   ],
   "source": [
    "data.dtypes #suppose to drop each of the original dummy columns but it is currently not"
   ]
  },
  {
   "cell_type": "code",
   "execution_count": 18,
   "metadata": {},
   "outputs": [],
   "source": [
    "# these two Q's are percentage based\n",
    "fill_info.col2num('Q34', 1, 6)# Q34\n",
    "Q34_combined = combine_col.sum_int('Q34',1,6)\n",
    "fill_info.col2num('Q35', 1, 6)# Q35\n",
    "Q35_combined = combine_col.sum_int('Q35',1,6)"
   ]
  },
  {
   "cell_type": "markdown",
   "metadata": {},
   "source": [
    "##### Encode categorical data"
   ]
  },
  {
   "cell_type": "code",
   "execution_count": 19,
   "metadata": {},
   "outputs": [],
   "source": [
    "Q11_features, Q11_combined = encode_col('Q11', 1, 7)\n",
    "Q13_features, Q13_combined = encode_col('Q13', 1, 15)\n",
    "Q14_features, Q14_combined = encode_col('Q14', 1, 11)\n",
    "Q15_features, Q15_combined = encode_col('Q15', 1, 7)\n",
    "Q16_features, Q16_combined = encode_col('Q16', 1, 18)\n",
    "Q19_features, Q19_combined = encode_col('Q19', 1, 19)\n",
    "Q21_features, Q21_combined = encode_col('Q21', 1, 13)\n",
    "Q27_features, Q27_combined = encode_col('Q27', 1, 20)\n",
    "Q28_features, Q28_combined = encode_col('Q28', 1, 43)\n",
    "Q29_features, Q29_combined = encode_col('Q29', 1, 28)\n",
    "Q30_features, Q30_combined = encode_col('Q30', 1, 25)\n",
    "Q31_features, Q31_combined = encode_col('Q31', 1, 12)\n",
    "Q33_features, Q33_combined = encode_col('Q33', 1, 11)\n",
    "Q36_features, Q36_combined = encode_col('Q36', 1, 13)\n",
    "Q38_features, Q38_combined = encode_col('Q38', 1, 22)\n",
    "Q42_features, Q42_combined = encode_col('Q42', 1, 5)\n",
    "Q44_features, Q44_combined = encode_col('Q44', 1, 6)\n",
    "Q45_features, Q45_combined = encode_col('Q45', 1, 6)\n",
    "Q47_features, Q47_combined = encode_col('Q47', 1, 16)\n",
    "Q49_features, Q49_combined = encode_col('Q49', 1, 12)\n",
    "Q50_features, Q50_combined = encode_col('Q50', 1, 8)"
   ]
  },
  {
   "cell_type": "code",
   "execution_count": null,
   "metadata": {},
   "outputs": [],
   "source": [
    "# currently new_data and data isnt working, the idea is to drop the original column aftter the dummy function"
   ]
  },
  {
   "cell_type": "markdown",
   "metadata": {},
   "source": [
    "##### Concatenate dummy and categorical features to find NaN values"
   ]
  },
  {
   "cell_type": "code",
   "execution_count": 20,
   "metadata": {},
   "outputs": [
    {
     "data": {
      "text/plain": [
       "<matplotlib.axes._subplots.AxesSubplot at 0x7fef60e28748>"
      ]
     },
     "execution_count": 20,
     "metadata": {},
     "output_type": "execute_result"
    },
    {
     "data": {
      "image/png": "[encoded data removed]",
      "text/plain": [
       "<Figure size 864x576 with 1 Axes>"
      ]
     },
     "metadata": {
      "needs_background": "light"
     },
     "output_type": "display_data"
    }
   ],
   "source": [
    "# new data frame with all the combined columns\n",
    "cat_encoded = pd.concat([Q11_combined, Q13_combined, Q14_combined, Q15_combined, Q16_combined, Q19_combined, Q21_combined, Q27_combined, Q28_combined, Q29_combined, Q30_combined, Q31_combined, Q33_combined, Q34_combined, Q35_combined, Q36_combined, Q38_combined, Q42_combined, Q44_combined, Q45_combined, Q47_combined, Q49_combined, Q50_combined],axis=1)\n",
    "cat_encoded.columns = ['Q11','Q13','Q14','Q15','Q16','Q19','Q21','Q27','Q28','Q29','Q30','Q31','Q33','Q34','Q35','Q36','Q38','Q42','Q44','Q45','Q47','Q49','Q50']\n",
    "# new data frame with all the ones that were made dummy\n",
    "dummy_encoded = pd.concat([data['Q1'],data['Q2'],data['Q3'],data['Q4'],data['Q5'],data['Q6'],data['Q7'],data['Q8'],data['Q10'],data['Q12_MULTIPLE_CHOICE'],data['Q17'],data['Q18'],data['Q20'],data['Q22'],data['Q23'],data['Q24'],data['Q25'],data['Q26'],data['Q32'],data['Q37'],data['Q39_Part_1'],data['Q39_Part_2'],data['Q40'],data['Q41_Part_1'],data['Q41_Part_2'],data['Q41_Part_3'],data['Q43'],data['Q46'],data['Q48']], axis=1)\n",
    "# Check missing values from the whole data set\n",
    "encoded_all = pd.concat([dummy_encoded, cat_encoded], axis=1)\n",
    "fig, ax = plt.subplots(figsize=(12,8))\n",
    "sns.heatmap(encoded_all.isnull(), cmap='coolwarm', yticklabels=False, cbar=False, ax=ax)"
   ]
  },
  {
   "cell_type": "code",
   "execution_count": null,
   "metadata": {},
   "outputs": [],
   "source": [
    "# need to deal with NaN"
   ]
  },
  {
   "cell_type": "code",
   "execution_count": 23,
   "metadata": {},
   "outputs": [
    {
     "ename": "AttributeError",
     "evalue": "'NoneType' object has no attribute 'dtypes'",
     "output_type": "error",
     "traceback": [
      "\u001b[0;31m---------------------------------------------------------------------------\u001b[0m",
      "\u001b[0;31mAttributeError\u001b[0m                            Traceback (most recent call last)",
      "\u001b[0;32m<ipython-input-23-429a3bfffa94>\u001b[0m in \u001b[0;36m<module>\u001b[0;34m\u001b[0m\n\u001b[0;32m----> 1\u001b[0;31m \u001b[0mnew_data\u001b[0m\u001b[0;34m.\u001b[0m\u001b[0mdtypes\u001b[0m\u001b[0;34m\u001b[0m\u001b[0m\n\u001b[0m",
      "\u001b[0;31mAttributeError\u001b[0m: 'NoneType' object has no attribute 'dtypes'"
     ]
    }
   ],
   "source": [
    "new_data.dtypes"
   ]
  },
  {
   "cell_type": "markdown",
   "metadata": {},
   "source": [
    "#### Cleaned Data"
   ]
  },
  {
   "cell_type": "code",
   "execution_count": 22,
   "metadata": {},
   "outputs": [
    {
     "ename": "AttributeError",
     "evalue": "'NoneType' object has no attribute 'drop'",
     "output_type": "error",
     "traceback": [
      "\u001b[0;31m---------------------------------------------------------------------------\u001b[0m",
      "\u001b[0;31mAttributeError\u001b[0m                            Traceback (most recent call last)",
      "\u001b[0;32m<ipython-input-22-5bb3cd21b011>\u001b[0m in \u001b[0;36m<module>\u001b[0;34m\u001b[0m\n\u001b[1;32m      2\u001b[0m \u001b[0mdummy_data\u001b[0m \u001b[0;34m=\u001b[0m \u001b[0mpd\u001b[0m\u001b[0;34m.\u001b[0m\u001b[0mconcat\u001b[0m\u001b[0;34m(\u001b[0m\u001b[0;34m[\u001b[0m\u001b[0mQ1_dummies\u001b[0m\u001b[0;34m,\u001b[0m \u001b[0mQ2_dummies\u001b[0m\u001b[0;34m,\u001b[0m \u001b[0mQ3_dummies\u001b[0m\u001b[0;34m,\u001b[0m \u001b[0mQ4_dummies\u001b[0m\u001b[0;34m,\u001b[0m \u001b[0mQ5_dummies\u001b[0m\u001b[0;34m,\u001b[0m \u001b[0mQ6_dummies\u001b[0m\u001b[0;34m,\u001b[0m \u001b[0mQ7_dummies\u001b[0m\u001b[0;34m,\u001b[0m \u001b[0mQ8_dummies\u001b[0m\u001b[0;34m,\u001b[0m \u001b[0mQ10_dummies\u001b[0m\u001b[0;34m,\u001b[0m \u001b[0mQ12_dummies\u001b[0m\u001b[0;34m,\u001b[0m \u001b[0mQ17_dummies\u001b[0m\u001b[0;34m,\u001b[0m \u001b[0mQ18_dummies\u001b[0m\u001b[0;34m,\u001b[0m \u001b[0mQ20_dummies\u001b[0m\u001b[0;34m,\u001b[0m \u001b[0mQ22_dummies\u001b[0m\u001b[0;34m,\u001b[0m \u001b[0mQ23_dummies\u001b[0m\u001b[0;34m,\u001b[0m \u001b[0mQ24_dummies\u001b[0m\u001b[0;34m,\u001b[0m \u001b[0mQ25_dummies\u001b[0m\u001b[0;34m,\u001b[0m \u001b[0mQ26_dummies\u001b[0m\u001b[0;34m,\u001b[0m \u001b[0mQ32_dummies\u001b[0m\u001b[0;34m,\u001b[0m \u001b[0mQ37_dummies\u001b[0m\u001b[0;34m,\u001b[0m \u001b[0mQ39P1_dummies\u001b[0m\u001b[0;34m,\u001b[0m \u001b[0mQ39P2_dummies\u001b[0m\u001b[0;34m,\u001b[0m \u001b[0mQ40_dummies\u001b[0m\u001b[0;34m,\u001b[0m \u001b[0mQ41P1_dummies\u001b[0m\u001b[0;34m,\u001b[0m \u001b[0mQ41P2_dummies\u001b[0m\u001b[0;34m,\u001b[0m \u001b[0mQ41P3_dummies\u001b[0m\u001b[0;34m,\u001b[0m \u001b[0mQ43_dummies\u001b[0m\u001b[0;34m,\u001b[0m \u001b[0mQ46_dummies\u001b[0m\u001b[0;34m,\u001b[0m \u001b[0mQ48_dummies\u001b[0m\u001b[0;34m]\u001b[0m\u001b[0;34m,\u001b[0m \u001b[0maxis\u001b[0m\u001b[0;34m=\u001b[0m\u001b[0;36m1\u001b[0m\u001b[0;34m)\u001b[0m\u001b[0;34m\u001b[0m\u001b[0m\n\u001b[1;32m      3\u001b[0m \u001b[0;31m# drop any column with \"TEXT\" in title\u001b[0m\u001b[0;34m\u001b[0m\u001b[0;34m\u001b[0m\u001b[0m\n\u001b[0;32m----> 4\u001b[0;31m \u001b[0mnew_data\u001b[0m\u001b[0;34m.\u001b[0m\u001b[0mdrop\u001b[0m\u001b[0;34m(\u001b[0m\u001b[0;34m[\u001b[0m\u001b[0mcol\u001b[0m \u001b[0;32mfor\u001b[0m \u001b[0mcol\u001b[0m \u001b[0;32min\u001b[0m \u001b[0mdata\u001b[0m\u001b[0;34m.\u001b[0m\u001b[0mcolumns\u001b[0m \u001b[0;32mif\u001b[0m \u001b[0;34m'TEXT'\u001b[0m \u001b[0;32min\u001b[0m \u001b[0mcol\u001b[0m\u001b[0;34m]\u001b[0m\u001b[0;34m,\u001b[0m\u001b[0maxis\u001b[0m\u001b[0;34m=\u001b[0m\u001b[0;36m1\u001b[0m\u001b[0;34m,\u001b[0m\u001b[0minplace\u001b[0m\u001b[0;34m=\u001b[0m\u001b[0;32mTrue\u001b[0m\u001b[0;34m)\u001b[0m\u001b[0;34m\u001b[0m\u001b[0m\n\u001b[0m\u001b[1;32m      5\u001b[0m \u001b[0;31m# drop other unecessary columns\u001b[0m\u001b[0;34m\u001b[0m\u001b[0;34m\u001b[0m\u001b[0m\n\u001b[1;32m      6\u001b[0m \u001b[0mnew_data\u001b[0m\u001b[0;34m.\u001b[0m\u001b[0mdrop\u001b[0m\u001b[0;34m(\u001b[0m\u001b[0;34m[\u001b[0m\u001b[0;34m'Unnamed: 0'\u001b[0m\u001b[0;34m,\u001b[0m \u001b[0;34m'Time from Start to Finish (seconds)'\u001b[0m\u001b[0;34m,\u001b[0m \u001b[0;34m'index'\u001b[0m\u001b[0;34m,\u001b[0m \u001b[0;34m'Salary_label'\u001b[0m\u001b[0;34m]\u001b[0m\u001b[0;34m,\u001b[0m \u001b[0maxis\u001b[0m\u001b[0;34m=\u001b[0m\u001b[0;36m1\u001b[0m\u001b[0;34m,\u001b[0m \u001b[0minplace\u001b[0m\u001b[0;34m=\u001b[0m\u001b[0;32mTrue\u001b[0m\u001b[0;34m)\u001b[0m\u001b[0;34m\u001b[0m\u001b[0m\n",
      "\u001b[0;31mAttributeError\u001b[0m: 'NoneType' object has no attribute 'drop'"
     ]
    }
   ],
   "source": [
    "# concatenate all dummy data\n",
    "dummy_data = pd.concat([Q1_dummies, Q2_dummies, Q3_dummies, Q4_dummies, Q5_dummies, Q6_dummies, Q7_dummies, Q8_dummies, Q10_dummies, Q12_dummies, Q17_dummies, Q18_dummies, Q20_dummies, Q22_dummies, Q23_dummies, Q24_dummies, Q25_dummies, Q26_dummies, Q32_dummies, Q37_dummies, Q39P1_dummies, Q39P2_dummies, Q40_dummies, Q41P1_dummies, Q41P2_dummies, Q41P3_dummies, Q43_dummies, Q46_dummies, Q48_dummies], axis=1)\n",
    "# drop any column with \"TEXT\" in title\n",
    "new_data.drop([col for col in data.columns if 'TEXT' in col],axis=1,inplace=True)\n",
    "# drop other unecessary columns\n",
    "new_data.drop(['Unnamed: 0', 'Time from Start to Finish (seconds)', 'index', 'Salary_label'], axis=1, inplace=True)\n",
    "# form cleaned data\n",
    "cleaned_data = pd.concat([dummy_data, new_data], axis=1)"
   ]
  },
  {
   "cell_type": "code",
   "execution_count": 22,
   "metadata": {},
   "outputs": [
    {
     "data": {
      "text/plain": [
       "Q1_Female               uint8\n",
       "Q1_Male                 uint8\n",
       "Q1_Other                uint8\n",
       "Q2_18-21                uint8\n",
       "Q2_22-24                uint8\n",
       "Q2_25-29                uint8\n",
       "Q2_30-34                uint8\n",
       "Q2_35-39                uint8\n",
       "Q2_40-44                uint8\n",
       "Q2_45-49                uint8\n",
       "Q2_50-54                uint8\n",
       "Q2_55-59                uint8\n",
       "Q2_60-69                uint8\n",
       "Q2_70+                  uint8\n",
       "Q3_Australia            uint8\n",
       "Q3_Brazil               uint8\n",
       "Q3_Canada               uint8\n",
       "Q3_China                uint8\n",
       "Q3_France               uint8\n",
       "Q3_Germany              uint8\n",
       "Q3_India                uint8\n",
       "Q3_Italy                uint8\n",
       "Q3_Japan                uint8\n",
       "Q3_Other                uint8\n",
       "Q3_Poland               uint8\n",
       "Q3_Russia               uint8\n",
       "Q3_Spain                uint8\n",
       "Q3_UKGBNI               uint8\n",
       "Q3_USA                  uint8\n",
       "Q4_Doctoral degree      uint8\n",
       "                       ...   \n",
       "Q47_Part_12             int64\n",
       "Q47_Part_13             int64\n",
       "Q47_Part_14             int64\n",
       "Q47_Part_15             int64\n",
       "Q47_Part_16             int64\n",
       "Q48                    object\n",
       "Q49_Part_1              int64\n",
       "Q49_Part_2              int64\n",
       "Q49_Part_3              int64\n",
       "Q49_Part_4              int64\n",
       "Q49_Part_5              int64\n",
       "Q49_Part_6              int64\n",
       "Q49_Part_7              int64\n",
       "Q49_Part_8              int64\n",
       "Q49_Part_9              int64\n",
       "Q49_Part_10             int64\n",
       "Q49_Part_11             int64\n",
       "Q49_Part_12             int64\n",
       "Q49_OTHER_TEXT         object\n",
       "Q50_Part_1              int64\n",
       "Q50_Part_2              int64\n",
       "Q50_Part_3              int64\n",
       "Q50_Part_4              int64\n",
       "Q50_Part_5              int64\n",
       "Q50_Part_6              int64\n",
       "Q50_Part_7              int64\n",
       "Q50_Part_8              int64\n",
       "Q50_OTHER_TEXT         object\n",
       "index                 float64\n",
       "Salary_label            int64\n",
       "Length: 662, dtype: object"
      ]
     },
     "execution_count": 22,
     "metadata": {},
     "output_type": "execute_result"
    }
   ],
   "source": [
    "cleaned_data.dtypes"
   ]
  },
  {
   "cell_type": "markdown",
   "metadata": {},
   "source": [
    "### Feature Selection"
   ]
  },
  {
   "cell_type": "code",
   "execution_count": 64,
   "metadata": {},
   "outputs": [],
   "source": [
    "X = cleaned_data.drop(['Q9'],axis=1)\n",
    "y = cleaned_data['Q9']\n",
    "X_train, X_test, y_train, y_test = train_test_split(X, y, random_state=42, test_size=0.3)"
   ]
  },
  {
   "cell_type": "code",
   "execution_count": 48,
   "metadata": {},
   "outputs": [],
   "source": [
    "# clf = linear_model.Lasso(alpha=0.1)\n",
    "# clf.fit(X_train, y_train)"
   ]
  },
  {
   "cell_type": "code",
   "execution_count": 49,
   "metadata": {},
   "outputs": [],
   "source": [
    "# scaler = StandardScaler()\n",
    "# scaler.fit(X_train.fillna(0))"
   ]
  },
  {
   "cell_type": "code",
   "execution_count": 67,
   "metadata": {},
   "outputs": [
    {
     "name": "stderr",
     "output_type": "stream",
     "text": [
      "/home/aaron/.local/lib/python3.5/site-packages/sklearn/linear_model/logistic.py:432: FutureWarning: Default solver will be changed to 'lbfgs' in 0.22. Specify a solver to silence this warning.\n",
      "  FutureWarning)\n",
      "/home/aaron/.local/lib/python3.5/site-packages/sklearn/linear_model/logistic.py:469: FutureWarning: Default multi_class will be changed to 'auto' in 0.22. Specify the multi_class option to silence this warning.\n",
      "  \"this warning.\", FutureWarning)\n"
     ]
    },
    {
     "data": {
      "text/plain": [
       "SelectFromModel(estimator=LogisticRegression(C=1, class_weight=None, dual=False,\n",
       "                                             fit_intercept=True,\n",
       "                                             intercept_scaling=1, l1_ratio=None,\n",
       "                                             max_iter=100, multi_class='warn',\n",
       "                                             n_jobs=None, penalty='l1',\n",
       "                                             random_state=None, solver='warn',\n",
       "                                             tol=0.0001, verbose=0,\n",
       "                                             warm_start=False),\n",
       "                max_features=None, norm_order=1, prefit=False, threshold=None)"
      ]
     },
     "execution_count": 67,
     "metadata": {},
     "output_type": "execute_result"
    }
   ],
   "source": [
    "sel_ = SelectFromModel(LogisticRegression(C=1, penalty='l1'))\n",
    "sel_.fit(X_train, y_train)"
   ]
  },
  {
   "cell_type": "code",
   "execution_count": 68,
   "metadata": {},
   "outputs": [
    {
     "data": {
      "text/plain": [
       "array([ True,  True,  True,  True,  True,  True,  True,  True,  True,\n",
       "        True,  True,  True,  True,  True,  True,  True,  True,  True,\n",
       "        True,  True,  True,  True,  True,  True,  True,  True,  True,\n",
       "        True,  True,  True,  True,  True,  True,  True,  True,  True,\n",
       "        True,  True,  True,  True,  True,  True,  True,  True,  True,\n",
       "        True,  True,  True,  True,  True,  True,  True,  True,  True,\n",
       "        True,  True,  True,  True,  True,  True,  True,  True,  True,\n",
       "        True,  True,  True,  True,  True,  True,  True,  True,  True,\n",
       "        True,  True,  True,  True,  True,  True,  True,  True,  True,\n",
       "        True,  True,  True,  True,  True,  True,  True,  True,  True,\n",
       "        True,  True,  True,  True,  True,  True,  True,  True,  True,\n",
       "        True,  True,  True,  True,  True,  True,  True,  True,  True,\n",
       "        True,  True,  True,  True,  True,  True,  True,  True,  True,\n",
       "        True,  True,  True,  True,  True, False,  True,  True,  True,\n",
       "        True,  True,  True,  True,  True,  True,  True,  True,  True,\n",
       "        True,  True,  True,  True,  True, False,  True,  True,  True,\n",
       "        True,  True,  True,  True,  True,  True,  True,  True,  True,\n",
       "        True,  True,  True,  True,  True,  True,  True,  True,  True,\n",
       "        True,  True,  True,  True,  True,  True,  True,  True,  True,\n",
       "        True,  True,  True,  True,  True,  True,  True,  True,  True,\n",
       "        True,  True,  True,  True,  True,  True,  True,  True,  True,\n",
       "        True,  True,  True,  True,  True,  True,  True,  True,  True,\n",
       "        True,  True,  True,  True,  True,  True,  True,  True,  True,\n",
       "        True,  True,  True,  True,  True,  True,  True,  True,  True,\n",
       "        True,  True,  True,  True,  True,  True,  True,  True,  True,\n",
       "        True,  True,  True,  True,  True,  True,  True,  True,  True,\n",
       "        True,  True,  True,  True,  True,  True,  True,  True,  True,\n",
       "        True,  True,  True,  True,  True,  True,  True,  True,  True,\n",
       "        True,  True,  True,  True,  True,  True,  True,  True,  True,\n",
       "        True,  True,  True,  True,  True,  True,  True,  True,  True,\n",
       "        True,  True,  True,  True,  True,  True,  True,  True,  True,\n",
       "        True,  True,  True,  True,  True,  True,  True,  True,  True,\n",
       "        True,  True,  True,  True,  True,  True,  True,  True,  True,\n",
       "        True,  True,  True,  True,  True,  True,  True,  True,  True,\n",
       "        True,  True,  True,  True,  True,  True,  True,  True,  True,\n",
       "        True,  True,  True,  True,  True,  True,  True,  True,  True,\n",
       "        True,  True,  True,  True,  True,  True,  True,  True,  True,\n",
       "        True,  True,  True,  True,  True,  True,  True,  True,  True,\n",
       "        True,  True,  True,  True,  True,  True,  True,  True,  True,\n",
       "        True,  True,  True,  True,  True,  True,  True,  True,  True,\n",
       "        True,  True,  True,  True,  True,  True,  True,  True,  True,\n",
       "        True,  True,  True,  True,  True,  True,  True,  True,  True,\n",
       "        True,  True,  True,  True,  True,  True,  True,  True,  True,\n",
       "        True,  True,  True,  True,  True,  True,  True,  True,  True,\n",
       "        True,  True,  True,  True,  True,  True,  True,  True,  True,\n",
       "        True,  True,  True,  True,  True,  True,  True,  True,  True,\n",
       "        True,  True,  True,  True,  True,  True,  True,  True,  True,\n",
       "        True,  True,  True,  True,  True,  True,  True,  True,  True,\n",
       "        True,  True,  True,  True,  True,  True,  True,  True,  True,\n",
       "        True,  True,  True,  True,  True,  True,  True,  True,  True,\n",
       "        True,  True,  True,  True,  True,  True,  True,  True,  True,\n",
       "        True,  True,  True,  True,  True,  True,  True,  True,  True,\n",
       "        True,  True,  True,  True,  True,  True,  True,  True,  True,\n",
       "        True,  True,  True,  True,  True,  True,  True,  True,  True,\n",
       "        True,  True,  True,  True,  True,  True,  True,  True,  True,\n",
       "        True,  True,  True,  True,  True,  True,  True,  True,  True,\n",
       "        True,  True,  True,  True,  True,  True,  True,  True,  True,\n",
       "        True,  True,  True,  True,  True,  True,  True,  True,  True,\n",
       "        True,  True,  True,  True,  True,  True,  True,  True,  True,\n",
       "        True,  True,  True,  True,  True,  True, False, False,  True,\n",
       "        True,  True,  True,  True,  True,  True,  True,  True,  True,\n",
       "        True,  True,  True,  True,  True,  True,  True,  True,  True,\n",
       "        True,  True,  True,  True,  True,  True,  True,  True,  True,\n",
       "        True,  True,  True,  True,  True,  True,  True,  True,  True,\n",
       "        True,  True,  True,  True,  True,  True,  True,  True,  True,\n",
       "        True,  True,  True,  True,  True,  True,  True,  True,  True,\n",
       "        True])"
      ]
     },
     "execution_count": 68,
     "metadata": {},
     "output_type": "execute_result"
    }
   ],
   "source": [
    "sel_.get_support()"
   ]
  },
  {
   "cell_type": "code",
   "execution_count": 53,
   "metadata": {},
   "outputs": [
    {
     "name": "stdout",
     "output_type": "stream",
     "text": [
      "total features: 595\n",
      "selected features: 591\n",
      "features with coefficients shrank to zero: 4743\n"
     ]
    }
   ],
   "source": [
    "selected_feat = X_train.columns[(sel_.get_support())]\n",
    "print('total features: {}'.format((X_train.shape[1])))\n",
    "print('selected features: {}'.format(len(selected_feat)))\n",
    "print('features with coefficients shrank to zero: {}'.format(\n",
    "      np.sum(sel_.estimator_.coef_ == 0)))"
   ]
  },
  {
   "cell_type": "code",
   "execution_count": 54,
   "metadata": {},
   "outputs": [
    {
     "ename": "IndexError",
     "evalue": "boolean index did not match indexed array along dimension 0; dimension is 595 but corresponding boolean dimension is 10710",
     "output_type": "error",
     "traceback": [
      "\u001b[0;31m---------------------------------------------------------------------------\u001b[0m",
      "\u001b[0;31mIndexError\u001b[0m                                Traceback (most recent call last)",
      "\u001b[0;32m<ipython-input-54-7378b7a7b11e>\u001b[0m in \u001b[0;36m<module>\u001b[0;34m\u001b[0m\n\u001b[0;32m----> 1\u001b[0;31m \u001b[0mremoved_feats\u001b[0m \u001b[0;34m=\u001b[0m \u001b[0mX_train\u001b[0m\u001b[0;34m.\u001b[0m\u001b[0mcolumns\u001b[0m\u001b[0;34m[\u001b[0m\u001b[0;34m(\u001b[0m\u001b[0msel_\u001b[0m\u001b[0;34m.\u001b[0m\u001b[0mestimator_\u001b[0m\u001b[0;34m.\u001b[0m\u001b[0mcoef_\u001b[0m \u001b[0;34m==\u001b[0m \u001b[0;36m0\u001b[0m\u001b[0;34m)\u001b[0m\u001b[0;34m.\u001b[0m\u001b[0mravel\u001b[0m\u001b[0;34m(\u001b[0m\u001b[0;34m)\u001b[0m\u001b[0;34m.\u001b[0m\u001b[0mtolist\u001b[0m\u001b[0;34m(\u001b[0m\u001b[0;34m)\u001b[0m\u001b[0;34m]\u001b[0m\u001b[0;34m\u001b[0m\u001b[0m\n\u001b[0m\u001b[1;32m      2\u001b[0m \u001b[0mremoved_feats\u001b[0m\u001b[0;34m\u001b[0m\u001b[0m\n",
      "\u001b[0;32m~/.local/lib/python3.5/site-packages/pandas/core/indexes/base.py\u001b[0m in \u001b[0;36m__getitem__\u001b[0;34m(self, key)\u001b[0m\n\u001b[1;32m   3967\u001b[0m \u001b[0;34m\u001b[0m\u001b[0m\n\u001b[1;32m   3968\u001b[0m         \u001b[0mkey\u001b[0m \u001b[0;34m=\u001b[0m \u001b[0mcom\u001b[0m\u001b[0;34m.\u001b[0m\u001b[0mvalues_from_object\u001b[0m\u001b[0;34m(\u001b[0m\u001b[0mkey\u001b[0m\u001b[0;34m)\u001b[0m\u001b[0;34m\u001b[0m\u001b[0m\n\u001b[0;32m-> 3969\u001b[0;31m         \u001b[0mresult\u001b[0m \u001b[0;34m=\u001b[0m \u001b[0mgetitem\u001b[0m\u001b[0;34m(\u001b[0m\u001b[0mkey\u001b[0m\u001b[0;34m)\u001b[0m\u001b[0;34m\u001b[0m\u001b[0m\n\u001b[0m\u001b[1;32m   3970\u001b[0m         \u001b[0;32mif\u001b[0m \u001b[0;32mnot\u001b[0m \u001b[0mis_scalar\u001b[0m\u001b[0;34m(\u001b[0m\u001b[0mresult\u001b[0m\u001b[0;34m)\u001b[0m\u001b[0;34m:\u001b[0m\u001b[0;34m\u001b[0m\u001b[0m\n\u001b[1;32m   3971\u001b[0m             \u001b[0;32mreturn\u001b[0m \u001b[0mpromote\u001b[0m\u001b[0;34m(\u001b[0m\u001b[0mresult\u001b[0m\u001b[0;34m)\u001b[0m\u001b[0;34m\u001b[0m\u001b[0m\n",
      "\u001b[0;31mIndexError\u001b[0m: boolean index did not match indexed array along dimension 0; dimension is 595 but corresponding boolean dimension is 10710"
     ]
    }
   ],
   "source": [
    "removed_feats = X_train.columns[(sel_.estimator_.coef_ == 0).ravel().tolist()]\n",
    "removed_feats"
   ]
  },
  {
   "cell_type": "markdown",
   "metadata": {},
   "source": [
    "### Logistic Regression"
   ]
  },
  {
   "cell_type": "code",
   "execution_count": 43,
   "metadata": {},
   "outputs": [],
   "source": [
    "X = cleaned_data.drop(['Q9'],axis=1)\n",
    "y = cleaned_data['Q9']\n",
    "X_train, X_test, y_train, y_test = train_test_split(X, y, random_state=42, test_size=0.3)"
   ]
  },
  {
   "cell_type": "code",
   "execution_count": 45,
   "metadata": {},
   "outputs": [
    {
     "data": {
      "text/plain": [
       "LogisticRegression(C=1.0, class_weight=None, dual=False, fit_intercept=True,\n",
       "                   intercept_scaling=1, l1_ratio=None, max_iter=100,\n",
       "                   multi_class='warn', n_jobs=None, penalty='l2',\n",
       "                   random_state=None, solver='warn', tol=0.0001, verbose=0,\n",
       "                   warm_start=False)"
      ]
     },
     "execution_count": 45,
     "metadata": {},
     "output_type": "execute_result"
    }
   ],
   "source": [
    "import warnings\n",
    "#warnings.filterwarnings(\"ignore\", category=ConvergenceWarning)\n",
    "warnings.filterwarnings(\"ignore\")\n",
    "model = LogisticRegression()    \n",
    "model.fit(X_train, y_train)"
   ]
  },
  {
   "cell_type": "code",
   "execution_count": 48,
   "metadata": {},
   "outputs": [
    {
     "name": "stdout",
     "output_type": "stream",
     "text": [
      "Fold 1: Accuracy: 0.784%\n",
      "Fold 2: Accuracy: 0.73%\n",
      "Fold 3: Accuracy: 0.711%\n",
      "Fold 4: Accuracy: 0.747%\n",
      "Fold 5: Accuracy: 0.75%\n",
      "Fold 6: Accuracy: 0.746%\n",
      "Fold 7: Accuracy: 0.771%\n",
      "Fold 8: Accuracy: 0.767%\n",
      "Fold 9: Accuracy: 0.737%\n",
      "Fold 10: Accuracy: 0.772%\n",
      "Average Score: 75.161%(2.114%)\n"
     ]
    }
   ],
   "source": [
    "model = LogisticRegression()\n",
    "scaler = StandardScaler()\n",
    "kfold = KFold(n_splits=10)\n",
    "kfold.get_n_splits(X)\n",
    "\n",
    "accuracy = np.zeros(10)\n",
    "np_idx = 0\n",
    "\n",
    "for train_idx, test_idx in kfold.split(X):\n",
    "    X_train, X_test = X.values[train_idx], X.values[test_idx]\n",
    "    y_train, y_test = y.values[train_idx], y.values[test_idx]\n",
    "    \n",
    "    X_train = scaler.fit_transform(X_train)\n",
    "    X_test = scaler.transform(X_test)\n",
    "    \n",
    "    model.fit(X_train, y_train)\n",
    "    \n",
    "    predictions = model.predict(X_test)\n",
    "    \n",
    "    TN = confusion_matrix(y_test, predictions)[0][0]\n",
    "    FP = confusion_matrix(y_test, predictions)[0][1]\n",
    "    FN = confusion_matrix(y_test, predictions)[1][0]\n",
    "    TP = confusion_matrix(y_test, predictions)[1][1]\n",
    "    total = TN + FP + FN + TP\n",
    "    ACC = (TP + TN) / float(total)\n",
    "    \n",
    "    accuracy[np_idx] = ACC*100\n",
    "    np_idx += 1\n",
    "    \n",
    "    print (\"Fold {}: Accuracy: {}%\".format(np_idx, round(ACC,3)))   \n",
    "\n",
    "print (\"Average Score: {}%({}%)\".format(round(np.mean(accuracy),3),round(np.std(accuracy),3)))"
   ]
  }
 ],
 "metadata": {
  "kernelspec": {
   "display_name": "Python 3",
   "language": "python",
   "name": "python3"
  },
  "language_info": {
   "codemirror_mode": {
    "name": "ipython",
    "version": 3
   },
   "file_extension": ".py",
   "mimetype": "text/x-python",
   "name": "python",
   "nbconvert_exporter": "python",
   "pygments_lexer": "ipython3",
   "version": "3.5.2"
  }
 },
 "nbformat": 4,
 "nbformat_minor": 2
}
